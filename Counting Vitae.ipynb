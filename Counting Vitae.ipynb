{
 "cells": [
  {
   "cell_type": "markdown",
   "metadata": {},
   "source": [
    "# Counting Vitae (LinkeIn Page)"
   ]
  },
  {
   "cell_type": "markdown",
   "metadata": {},
   "source": [
    "##### Import packages and open the document"
   ]
  },
  {
   "cell_type": "code",
   "execution_count": 199,
   "metadata": {
    "collapsed": true
   },
   "outputs": [],
   "source": [
    "import re\n",
    "import string\n",
    "import collections\n",
    "from bokeh.charts import Bar, output_file, show\n",
    "from bokeh.io import output_notebook\n",
    "import pandas as pd"
   ]
  },
  {
   "cell_type": "code",
   "execution_count": 200,
   "metadata": {
    "collapsed": false
   },
   "outputs": [],
   "source": [
    "with open('/Users/KillMe/Desktop/LinkedIn-Plaintext') as f:\n",
    "    mylist = []\n",
    "    for line in f:\n",
    "        mylist.append(re.sub(' |\\n|•|–|’','',line)) #Delete any punctuation, newline and whitespace"
   ]
  },
  {
   "cell_type": "markdown",
   "metadata": {},
   "source": [
    "###### To eliminate all punctuation more efficiently, I used string.punctuation method. Need to turn the text from list into string"
   ]
  },
  {
   "cell_type": "code",
   "execution_count": 201,
   "metadata": {
    "collapsed": false
   },
   "outputs": [],
   "source": [
    "text_string = ''\n",
    "for i in mylist :\n",
    "    text_string+=i"
   ]
  },
  {
   "cell_type": "code",
   "execution_count": 204,
   "metadata": {
    "collapsed": false
   },
   "outputs": [],
   "source": [
    "def trim_punctuation(s):  \n",
    "    for c in string.punctuation:\n",
    "        s=s.replace(c,\"\")\n",
    "    return s\n",
    "\n",
    "text_clean = trim_punctuation(text_string)"
   ]
  },
  {
   "cell_type": "markdown",
   "metadata": {},
   "source": [
    "##### Counting characters with upper and lower cases ignored"
   ]
  },
  {
   "cell_type": "code",
   "execution_count": 205,
   "metadata": {
    "collapsed": false
   },
   "outputs": [],
   "source": [
    "letters = collections.Counter(text_clean.lower()) # This count ignores upper and lower cases"
   ]
  },
  {
   "cell_type": "code",
   "execution_count": 177,
   "metadata": {
    "collapsed": false
   },
   "outputs": [],
   "source": [
    "letters_dataframe = pd.DataFrame.from_dict(letters, orient='index').reset_index() \n",
    "#Construct the counting result as a dataframe"
   ]
  },
  {
   "cell_type": "code",
   "execution_count": 181,
   "metadata": {
    "collapsed": false
   },
   "outputs": [],
   "source": [
    "letters_dataframe = letters_dataframe.rename(columns={'index':'character', 0:'count'}) #Add proper column names"
   ]
  },
  {
   "cell_type": "markdown",
   "metadata": {},
   "source": [
    "##### Plot an interactive bar chart"
   ]
  },
  {
   "cell_type": "code",
   "execution_count": 196,
   "metadata": {
    "collapsed": false
   },
   "outputs": [
    {
     "data": {
      "text/html": [
       "\n",
       "    <div class=\"bk-root\">\n",
       "        <a href=\"http://bokeh.pydata.org\" target=\"_blank\" class=\"bk-logo bk-logo-small bk-logo-notebook\"></a>\n",
       "        <span id=\"5bbfd3e3-a066-4621-b216-820f718f0dec\">Loading BokehJS ...</span>\n",
       "    </div>"
      ]
     },
     "metadata": {},
     "output_type": "display_data"
    },
    {
     "data": {
      "application/javascript": [
       "\n",
       "(function(global) {\n",
       "  function now() {\n",
       "    return new Date();\n",
       "  }\n",
       "\n",
       "  var force = true;\n",
       "\n",
       "  if (typeof (window._bokeh_onload_callbacks) === \"undefined\" || force === true) {\n",
       "    window._bokeh_onload_callbacks = [];\n",
       "    window._bokeh_is_loading = undefined;\n",
       "  }\n",
       "\n",
       "\n",
       "  \n",
       "  if (typeof (window._bokeh_timeout) === \"undefined\" || force === true) {\n",
       "    window._bokeh_timeout = Date.now() + 5000;\n",
       "    window._bokeh_failed_load = false;\n",
       "  }\n",
       "\n",
       "  var NB_LOAD_WARNING = {'data': {'text/html':\n",
       "     \"<div style='background-color: #fdd'>\\n\"+\n",
       "     \"<p>\\n\"+\n",
       "     \"BokehJS does not appear to have successfully loaded. If loading BokehJS from CDN, this \\n\"+\n",
       "     \"may be due to a slow or bad network connection. Possible fixes:\\n\"+\n",
       "     \"</p>\\n\"+\n",
       "     \"<ul>\\n\"+\n",
       "     \"<li>re-rerun `output_notebook()` to attempt to load from CDN again, or</li>\\n\"+\n",
       "     \"<li>use INLINE resources instead, as so:</li>\\n\"+\n",
       "     \"</ul>\\n\"+\n",
       "     \"<code>\\n\"+\n",
       "     \"from bokeh.resources import INLINE\\n\"+\n",
       "     \"output_notebook(resources=INLINE)\\n\"+\n",
       "     \"</code>\\n\"+\n",
       "     \"</div>\"}};\n",
       "\n",
       "  function display_loaded() {\n",
       "    if (window.Bokeh !== undefined) {\n",
       "      document.getElementById(\"5bbfd3e3-a066-4621-b216-820f718f0dec\").textContent = \"BokehJS successfully loaded.\";\n",
       "    } else if (Date.now() < window._bokeh_timeout) {\n",
       "      setTimeout(display_loaded, 100)\n",
       "    }\n",
       "  }\n",
       "\n",
       "  function run_callbacks() {\n",
       "    window._bokeh_onload_callbacks.forEach(function(callback) { callback() });\n",
       "    delete window._bokeh_onload_callbacks\n",
       "    console.info(\"Bokeh: all callbacks have finished\");\n",
       "  }\n",
       "\n",
       "  function load_libs(js_urls, callback) {\n",
       "    window._bokeh_onload_callbacks.push(callback);\n",
       "    if (window._bokeh_is_loading > 0) {\n",
       "      console.log(\"Bokeh: BokehJS is being loaded, scheduling callback at\", now());\n",
       "      return null;\n",
       "    }\n",
       "    if (js_urls == null || js_urls.length === 0) {\n",
       "      run_callbacks();\n",
       "      return null;\n",
       "    }\n",
       "    console.log(\"Bokeh: BokehJS not loaded, scheduling load and callback at\", now());\n",
       "    window._bokeh_is_loading = js_urls.length;\n",
       "    for (var i = 0; i < js_urls.length; i++) {\n",
       "      var url = js_urls[i];\n",
       "      var s = document.createElement('script');\n",
       "      s.src = url;\n",
       "      s.async = false;\n",
       "      s.onreadystatechange = s.onload = function() {\n",
       "        window._bokeh_is_loading--;\n",
       "        if (window._bokeh_is_loading === 0) {\n",
       "          console.log(\"Bokeh: all BokehJS libraries loaded\");\n",
       "          run_callbacks()\n",
       "        }\n",
       "      };\n",
       "      s.onerror = function() {\n",
       "        console.warn(\"failed to load library \" + url);\n",
       "      };\n",
       "      console.log(\"Bokeh: injecting script tag for BokehJS library: \", url);\n",
       "      document.getElementsByTagName(\"head\")[0].appendChild(s);\n",
       "    }\n",
       "  };var element = document.getElementById(\"5bbfd3e3-a066-4621-b216-820f718f0dec\");\n",
       "  if (element == null) {\n",
       "    console.log(\"Bokeh: ERROR: autoload.js configured with elementid '5bbfd3e3-a066-4621-b216-820f718f0dec' but no matching script tag was found. \")\n",
       "    return false;\n",
       "  }\n",
       "\n",
       "  var js_urls = [\"https://cdn.pydata.org/bokeh/release/bokeh-0.12.4.min.js\", \"https://cdn.pydata.org/bokeh/release/bokeh-widgets-0.12.4.min.js\"];\n",
       "\n",
       "  var inline_js = [\n",
       "    function(Bokeh) {\n",
       "      Bokeh.set_log_level(\"info\");\n",
       "    },\n",
       "    \n",
       "    function(Bokeh) {\n",
       "      \n",
       "      document.getElementById(\"5bbfd3e3-a066-4621-b216-820f718f0dec\").textContent = \"BokehJS is loading...\";\n",
       "    },\n",
       "    function(Bokeh) {\n",
       "      console.log(\"Bokeh: injecting CSS: https://cdn.pydata.org/bokeh/release/bokeh-0.12.4.min.css\");\n",
       "      Bokeh.embed.inject_css(\"https://cdn.pydata.org/bokeh/release/bokeh-0.12.4.min.css\");\n",
       "      console.log(\"Bokeh: injecting CSS: https://cdn.pydata.org/bokeh/release/bokeh-widgets-0.12.4.min.css\");\n",
       "      Bokeh.embed.inject_css(\"https://cdn.pydata.org/bokeh/release/bokeh-widgets-0.12.4.min.css\");\n",
       "    }\n",
       "  ];\n",
       "\n",
       "  function run_inline_js() {\n",
       "    \n",
       "    if ((window.Bokeh !== undefined) || (force === true)) {\n",
       "      for (var i = 0; i < inline_js.length; i++) {\n",
       "        inline_js[i](window.Bokeh);\n",
       "      }if (force === true) {\n",
       "        display_loaded();\n",
       "      }} else if (Date.now() < window._bokeh_timeout) {\n",
       "      setTimeout(run_inline_js, 100);\n",
       "    } else if (!window._bokeh_failed_load) {\n",
       "      console.log(\"Bokeh: BokehJS failed to load within specified timeout.\");\n",
       "      window._bokeh_failed_load = true;\n",
       "    } else if (force !== true) {\n",
       "      var cell = $(document.getElementById(\"5bbfd3e3-a066-4621-b216-820f718f0dec\")).parents('.cell').data().cell;\n",
       "      cell.output_area.append_execute_result(NB_LOAD_WARNING)\n",
       "    }\n",
       "\n",
       "  }\n",
       "\n",
       "  if (window._bokeh_is_loading === 0) {\n",
       "    console.log(\"Bokeh: BokehJS loaded, going straight to plotting\");\n",
       "    run_inline_js();\n",
       "  } else {\n",
       "    load_libs(js_urls, function() {\n",
       "      console.log(\"Bokeh: BokehJS plotting callback run at\", now());\n",
       "      run_inline_js();\n",
       "    });\n",
       "  }\n",
       "}(this));"
      ]
     },
     "metadata": {},
     "output_type": "display_data"
    },
    {
     "data": {
      "text/html": [
       "\n",
       "\n",
       "    <div class=\"bk-root\">\n",
       "        <div class=\"bk-plotdiv\" id=\"205a8a37-23ad-430f-b2ac-4e3e7c955c93\"></div>\n",
       "    </div>\n",
       "<script type=\"text/javascript\">\n",
       "  \n",
       "  (function(global) {\n",
       "    function now() {\n",
       "      return new Date();\n",
       "    }\n",
       "  \n",
       "    var force = false;\n",
       "  \n",
       "    if (typeof (window._bokeh_onload_callbacks) === \"undefined\" || force === true) {\n",
       "      window._bokeh_onload_callbacks = [];\n",
       "      window._bokeh_is_loading = undefined;\n",
       "    }\n",
       "  \n",
       "  \n",
       "    \n",
       "    if (typeof (window._bokeh_timeout) === \"undefined\" || force === true) {\n",
       "      window._bokeh_timeout = Date.now() + 0;\n",
       "      window._bokeh_failed_load = false;\n",
       "    }\n",
       "  \n",
       "    var NB_LOAD_WARNING = {'data': {'text/html':\n",
       "       \"<div style='background-color: #fdd'>\\n\"+\n",
       "       \"<p>\\n\"+\n",
       "       \"BokehJS does not appear to have successfully loaded. If loading BokehJS from CDN, this \\n\"+\n",
       "       \"may be due to a slow or bad network connection. Possible fixes:\\n\"+\n",
       "       \"</p>\\n\"+\n",
       "       \"<ul>\\n\"+\n",
       "       \"<li>re-rerun `output_notebook()` to attempt to load from CDN again, or</li>\\n\"+\n",
       "       \"<li>use INLINE resources instead, as so:</li>\\n\"+\n",
       "       \"</ul>\\n\"+\n",
       "       \"<code>\\n\"+\n",
       "       \"from bokeh.resources import INLINE\\n\"+\n",
       "       \"output_notebook(resources=INLINE)\\n\"+\n",
       "       \"</code>\\n\"+\n",
       "       \"</div>\"}};\n",
       "  \n",
       "    function display_loaded() {\n",
       "      if (window.Bokeh !== undefined) {\n",
       "        document.getElementById(\"205a8a37-23ad-430f-b2ac-4e3e7c955c93\").textContent = \"BokehJS successfully loaded.\";\n",
       "      } else if (Date.now() < window._bokeh_timeout) {\n",
       "        setTimeout(display_loaded, 100)\n",
       "      }\n",
       "    }\n",
       "  \n",
       "    function run_callbacks() {\n",
       "      window._bokeh_onload_callbacks.forEach(function(callback) { callback() });\n",
       "      delete window._bokeh_onload_callbacks\n",
       "      console.info(\"Bokeh: all callbacks have finished\");\n",
       "    }\n",
       "  \n",
       "    function load_libs(js_urls, callback) {\n",
       "      window._bokeh_onload_callbacks.push(callback);\n",
       "      if (window._bokeh_is_loading > 0) {\n",
       "        console.log(\"Bokeh: BokehJS is being loaded, scheduling callback at\", now());\n",
       "        return null;\n",
       "      }\n",
       "      if (js_urls == null || js_urls.length === 0) {\n",
       "        run_callbacks();\n",
       "        return null;\n",
       "      }\n",
       "      console.log(\"Bokeh: BokehJS not loaded, scheduling load and callback at\", now());\n",
       "      window._bokeh_is_loading = js_urls.length;\n",
       "      for (var i = 0; i < js_urls.length; i++) {\n",
       "        var url = js_urls[i];\n",
       "        var s = document.createElement('script');\n",
       "        s.src = url;\n",
       "        s.async = false;\n",
       "        s.onreadystatechange = s.onload = function() {\n",
       "          window._bokeh_is_loading--;\n",
       "          if (window._bokeh_is_loading === 0) {\n",
       "            console.log(\"Bokeh: all BokehJS libraries loaded\");\n",
       "            run_callbacks()\n",
       "          }\n",
       "        };\n",
       "        s.onerror = function() {\n",
       "          console.warn(\"failed to load library \" + url);\n",
       "        };\n",
       "        console.log(\"Bokeh: injecting script tag for BokehJS library: \", url);\n",
       "        document.getElementsByTagName(\"head\")[0].appendChild(s);\n",
       "      }\n",
       "    };var element = document.getElementById(\"205a8a37-23ad-430f-b2ac-4e3e7c955c93\");\n",
       "    if (element == null) {\n",
       "      console.log(\"Bokeh: ERROR: autoload.js configured with elementid '205a8a37-23ad-430f-b2ac-4e3e7c955c93' but no matching script tag was found. \")\n",
       "      return false;\n",
       "    }\n",
       "  \n",
       "    var js_urls = [];\n",
       "  \n",
       "    var inline_js = [\n",
       "      function(Bokeh) {\n",
       "        (function() {\n",
       "          var fn = function() {\n",
       "            var docs_json = {\"29950e16-e89d-433c-98a1-7d8abe849f32\":{\"roots\":{\"references\":[{\"attributes\":{},\"id\":\"f5baeb67-1749-4278-ab26-1e5ac71fc8d7\",\"type\":\"CategoricalTicker\"},{\"attributes\":{\"plot\":{\"id\":\"9244822a-3146-4ed1-8ccb-48b03922ea7e\",\"subtype\":\"Chart\",\"type\":\"Plot\"}},\"id\":\"f2f957d3-f2ce-49aa-abba-78b1061257da\",\"type\":\"WheelZoomTool\"},{\"attributes\":{\"callback\":null,\"column_names\":[\"width\",\"height\",\"y\",\"x\",\"fill_alpha\",\"color\",\"line_alpha\",\"label\",\"line_color\"],\"data\":{\"character\":[\"s\"],\"chart_index\":[{\"character\":\"s\"}],\"color\":[\"#f22c40\"],\"fill_alpha\":[0.8],\"height\":[568.0],\"label\":[{\"character\":\"s\"}],\"line_alpha\":[1.0],\"line_color\":[\"white\"],\"width\":[0.8],\"x\":[\"s\"],\"y\":[284.0]}},\"id\":\"2d76a6fa-98c6-45bf-9ab5-0019a92f4e2b\",\"type\":\"ColumnDataSource\"},{\"attributes\":{\"callback\":null,\"column_names\":[\"width\",\"height\",\"y\",\"x\",\"fill_alpha\",\"color\",\"line_alpha\",\"label\",\"line_color\"],\"data\":{\"character\":[\"j\"],\"chart_index\":[{\"character\":\"j\"}],\"color\":[\"#f22c40\"],\"fill_alpha\":[0.8],\"height\":[13.0],\"label\":[{\"character\":\"j\"}],\"line_alpha\":[1.0],\"line_color\":[\"white\"],\"width\":[0.8],\"x\":[\"j\"],\"y\":[6.5]}},\"id\":\"7eff89db-05a3-47dd-9661-2ce48bb04f48\",\"type\":\"ColumnDataSource\"},{\"attributes\":{\"data_source\":{\"id\":\"7c93920b-f79e-420e-b78d-8d22d4e5eb80\",\"type\":\"ColumnDataSource\"},\"glyph\":{\"id\":\"efd59a20-dfa6-4fc7-879c-fec3715f361c\",\"type\":\"Rect\"},\"hover_glyph\":null,\"nonselection_glyph\":null,\"selection_glyph\":null},\"id\":\"4921337d-226b-4cd0-ba3e-5b5876403300\",\"type\":\"GlyphRenderer\"},{\"attributes\":{\"data_source\":{\"id\":\"39171fbb-a9b2-4288-bd73-8829e47c6f93\",\"type\":\"ColumnDataSource\"},\"glyph\":{\"id\":\"9033348c-45d3-47c6-b567-e280e3d1f7e9\",\"type\":\"Rect\"},\"hover_glyph\":null,\"nonselection_glyph\":null,\"selection_glyph\":null},\"id\":\"791b24e9-fe9f-45e6-b8f9-6c0416c9f719\",\"type\":\"GlyphRenderer\"},{\"attributes\":{\"data_source\":{\"id\":\"06b37383-6e7a-48e3-94d4-feac9944dad0\",\"type\":\"ColumnDataSource\"},\"glyph\":{\"id\":\"f8051fa0-ecd1-4f4d-a144-3d3543d229c0\",\"type\":\"Rect\"},\"hover_glyph\":null,\"nonselection_glyph\":null,\"selection_glyph\":null},\"id\":\"530f5aef-523e-4bb7-9cbf-52d895c64ea7\",\"type\":\"GlyphRenderer\"},{\"attributes\":{\"data_source\":{\"id\":\"c6717e2f-a369-4fd1-9cc3-da9bb050c5b2\",\"type\":\"ColumnDataSource\"},\"glyph\":{\"id\":\"09df48a6-7d97-4848-af72-510240967d8f\",\"type\":\"Rect\"},\"hover_glyph\":null,\"nonselection_glyph\":null,\"selection_glyph\":null},\"id\":\"4080dafb-1642-4a1a-a53f-30878554cc56\",\"type\":\"GlyphRenderer\"},{\"attributes\":{\"callback\":null,\"column_names\":[\"width\",\"height\",\"y\",\"x\",\"fill_alpha\",\"color\",\"line_alpha\",\"label\",\"line_color\"],\"data\":{\"character\":[\"m\"],\"chart_index\":[{\"character\":\"m\"}],\"color\":[\"#f22c40\"],\"fill_alpha\":[0.8],\"height\":[256.0],\"label\":[{\"character\":\"m\"}],\"line_alpha\":[1.0],\"line_color\":[\"white\"],\"width\":[0.8],\"x\":[\"m\"],\"y\":[128.0]}},\"id\":\"8a822bc3-0a6a-4d2b-a63f-409bb89ee9e6\",\"type\":\"ColumnDataSource\"},{\"attributes\":{\"fill_alpha\":{\"field\":\"fill_alpha\"},\"fill_color\":{\"field\":\"color\"},\"height\":{\"field\":\"height\",\"units\":\"data\"},\"line_color\":{\"field\":\"line_color\"},\"width\":{\"field\":\"width\",\"units\":\"data\"},\"x\":{\"field\":\"x\"},\"y\":{\"field\":\"y\"}},\"id\":\"f8a7e464-6edb-4530-b479-b49813db5f5c\",\"type\":\"Rect\"},{\"attributes\":{\"callback\":null,\"end\":806.4},\"id\":\"a4a29d8f-d202-43b9-9a24-31a18fca04be\",\"type\":\"Range1d\"},{\"attributes\":{},\"id\":\"7ebaa86e-2d05-4289-b6ab-a44bc02a8bdb\",\"type\":\"CategoricalTickFormatter\"},{\"attributes\":{\"callback\":null,\"column_names\":[\"width\",\"height\",\"y\",\"x\",\"fill_alpha\",\"color\",\"line_alpha\",\"label\",\"line_color\"],\"data\":{\"character\":[\"4\"],\"chart_index\":[{\"character\":\"4\"}],\"color\":[\"#f22c40\"],\"fill_alpha\":[0.8],\"height\":[29.0],\"label\":[{\"character\":\"4\"}],\"line_alpha\":[1.0],\"line_color\":[\"white\"],\"width\":[0.8],\"x\":[\"4\"],\"y\":[14.5]}},\"id\":\"d38565ed-98ec-440a-a6cd-dbbea0341127\",\"type\":\"ColumnDataSource\"},{\"attributes\":{\"fill_alpha\":{\"field\":\"fill_alpha\"},\"fill_color\":{\"field\":\"color\"},\"height\":{\"field\":\"height\",\"units\":\"data\"},\"line_color\":{\"field\":\"line_color\"},\"width\":{\"field\":\"width\",\"units\":\"data\"},\"x\":{\"field\":\"x\"},\"y\":{\"field\":\"y\"}},\"id\":\"a3a4c031-21eb-47ee-90e2-8f385b52293d\",\"type\":\"Rect\"},{\"attributes\":{\"fill_alpha\":{\"field\":\"fill_alpha\"},\"fill_color\":{\"field\":\"color\"},\"height\":{\"field\":\"height\",\"units\":\"data\"},\"line_color\":{\"field\":\"line_color\"},\"width\":{\"field\":\"width\",\"units\":\"data\"},\"x\":{\"field\":\"x\"},\"y\":{\"field\":\"y\"}},\"id\":\"634cade6-2fe8-4ff3-8a40-41e2bd4e32a7\",\"type\":\"Rect\"},{\"attributes\":{\"fill_alpha\":{\"field\":\"fill_alpha\"},\"fill_color\":{\"field\":\"color\"},\"height\":{\"field\":\"height\",\"units\":\"data\"},\"line_color\":{\"field\":\"line_color\"},\"width\":{\"field\":\"width\",\"units\":\"data\"},\"x\":{\"field\":\"x\"},\"y\":{\"field\":\"y\"}},\"id\":\"58e3e7fb-971b-488e-95f1-c2ce73ceb4f4\",\"type\":\"Rect\"},{\"attributes\":{\"fill_alpha\":{\"field\":\"fill_alpha\"},\"fill_color\":{\"field\":\"color\"},\"height\":{\"field\":\"height\",\"units\":\"data\"},\"line_color\":{\"field\":\"line_color\"},\"width\":{\"field\":\"width\",\"units\":\"data\"},\"x\":{\"field\":\"x\"},\"y\":{\"field\":\"y\"}},\"id\":\"55a2983a-3e2e-4743-9301-27de85381a40\",\"type\":\"Rect\"},{\"attributes\":{},\"id\":\"b67cfdda-dc04-4028-9952-91bc500f597c\",\"type\":\"BasicTickFormatter\"},{\"attributes\":{\"callback\":null,\"column_names\":[\"width\",\"height\",\"y\",\"x\",\"fill_alpha\",\"color\",\"line_alpha\",\"label\",\"line_color\"],\"data\":{\"character\":[\"v\"],\"chart_index\":[{\"character\":\"v\"}],\"color\":[\"#f22c40\"],\"fill_alpha\":[0.8],\"height\":[108.0],\"label\":[{\"character\":\"v\"}],\"line_alpha\":[1.0],\"line_color\":[\"white\"],\"width\":[0.8],\"x\":[\"v\"],\"y\":[54.0]}},\"id\":\"8e436204-7aa8-4c69-be4c-cba9fe8ac35a\",\"type\":\"ColumnDataSource\"},{\"attributes\":{\"callback\":null,\"column_names\":[\"width\",\"height\",\"y\",\"x\",\"fill_alpha\",\"color\",\"line_alpha\",\"label\",\"line_color\"],\"data\":{\"character\":[\"r\"],\"chart_index\":[{\"character\":\"r\"}],\"color\":[\"#f22c40\"],\"fill_alpha\":[0.8],\"height\":[441.0],\"label\":[{\"character\":\"r\"}],\"line_alpha\":[1.0],\"line_color\":[\"white\"],\"width\":[0.8],\"x\":[\"r\"],\"y\":[220.5]}},\"id\":\"06b37383-6e7a-48e3-94d4-feac9944dad0\",\"type\":\"ColumnDataSource\"},{\"attributes\":{\"callback\":null,\"column_names\":[\"width\",\"height\",\"y\",\"x\",\"fill_alpha\",\"color\",\"line_alpha\",\"label\",\"line_color\"],\"data\":{\"character\":[\"l\"],\"chart_index\":[{\"character\":\"l\"}],\"color\":[\"#f22c40\"],\"fill_alpha\":[0.8],\"height\":[250.0],\"label\":[{\"character\":\"l\"}],\"line_alpha\":[1.0],\"line_color\":[\"white\"],\"width\":[0.8],\"x\":[\"l\"],\"y\":[125.0]}},\"id\":\"f08e319b-b59f-45fa-a636-0fec3a8e7cd8\",\"type\":\"ColumnDataSource\"},{\"attributes\":{\"plot\":{\"id\":\"9244822a-3146-4ed1-8ccb-48b03922ea7e\",\"subtype\":\"Chart\",\"type\":\"Plot\"}},\"id\":\"20641e61-a100-4e02-b71c-1f38a7e90758\",\"type\":\"SaveTool\"},{\"attributes\":{\"data_source\":{\"id\":\"8e436204-7aa8-4c69-be4c-cba9fe8ac35a\",\"type\":\"ColumnDataSource\"},\"glyph\":{\"id\":\"4c4c1349-f608-4681-a7b8-2a075ec640c0\",\"type\":\"Rect\"},\"hover_glyph\":null,\"nonselection_glyph\":null,\"selection_glyph\":null},\"id\":\"23c50d1a-45ba-4ea8-9cc5-f8e6dbd30eed\",\"type\":\"GlyphRenderer\"},{\"attributes\":{\"fill_alpha\":{\"field\":\"fill_alpha\"},\"fill_color\":{\"field\":\"color\"},\"height\":{\"field\":\"height\",\"units\":\"data\"},\"line_color\":{\"field\":\"line_color\"},\"width\":{\"field\":\"width\",\"units\":\"data\"},\"x\":{\"field\":\"x\"},\"y\":{\"field\":\"y\"}},\"id\":\"b3edc6f9-b163-4896-97ce-2e6f0ca184b8\",\"type\":\"Rect\"},{\"attributes\":{\"plot\":{\"id\":\"9244822a-3146-4ed1-8ccb-48b03922ea7e\",\"subtype\":\"Chart\",\"type\":\"Plot\"}},\"id\":\"3e0ef50b-60cf-4147-af4c-71014e5219b3\",\"type\":\"HelpTool\"},{\"attributes\":{\"axis_label\":\"Sum( Count )\",\"formatter\":{\"id\":\"b67cfdda-dc04-4028-9952-91bc500f597c\",\"type\":\"BasicTickFormatter\"},\"plot\":{\"id\":\"9244822a-3146-4ed1-8ccb-48b03922ea7e\",\"subtype\":\"Chart\",\"type\":\"Plot\"},\"ticker\":{\"id\":\"9630ef2f-8e20-45bb-b3a1-ced087576b30\",\"type\":\"BasicTicker\"}},\"id\":\"1b00c297-c83d-4c5c-af63-40b54952f532\",\"type\":\"LinearAxis\"},{\"attributes\":{\"data_source\":{\"id\":\"f08e319b-b59f-45fa-a636-0fec3a8e7cd8\",\"type\":\"ColumnDataSource\"},\"glyph\":{\"id\":\"f09fd460-c53e-4cdc-99d4-afe0d3e968a0\",\"type\":\"Rect\"},\"hover_glyph\":null,\"nonselection_glyph\":null,\"selection_glyph\":null},\"id\":\"0a2693c7-f927-46e8-9085-e1bcd902000e\",\"type\":\"GlyphRenderer\"},{\"attributes\":{\"callback\":null,\"column_names\":[\"width\",\"height\",\"y\",\"x\",\"fill_alpha\",\"color\",\"line_alpha\",\"label\",\"line_color\"],\"data\":{\"character\":[\"9\"],\"chart_index\":[{\"character\":\"9\"}],\"color\":[\"#f22c40\"],\"fill_alpha\":[0.8],\"height\":[9.0],\"label\":[{\"character\":\"9\"}],\"line_alpha\":[1.0],\"line_color\":[\"white\"],\"width\":[0.8],\"x\":[\"9\"],\"y\":[4.5]}},\"id\":\"8579c25f-88ab-41d5-9a87-04a1f15266ab\",\"type\":\"ColumnDataSource\"},{\"attributes\":{\"fill_alpha\":{\"field\":\"fill_alpha\"},\"fill_color\":{\"field\":\"color\"},\"height\":{\"field\":\"height\",\"units\":\"data\"},\"line_color\":{\"field\":\"line_color\"},\"width\":{\"field\":\"width\",\"units\":\"data\"},\"x\":{\"field\":\"x\"},\"y\":{\"field\":\"y\"}},\"id\":\"efd59a20-dfa6-4fc7-879c-fec3715f361c\",\"type\":\"Rect\"},{\"attributes\":{\"callback\":null,\"column_names\":[\"width\",\"height\",\"y\",\"x\",\"fill_alpha\",\"color\",\"line_alpha\",\"label\",\"line_color\"],\"data\":{\"character\":[\"2\"],\"chart_index\":[{\"character\":\"2\"}],\"color\":[\"#f22c40\"],\"fill_alpha\":[0.8],\"height\":[55.0],\"label\":[{\"character\":\"2\"}],\"line_alpha\":[1.0],\"line_color\":[\"white\"],\"width\":[0.8],\"x\":[\"2\"],\"y\":[27.5]}},\"id\":\"1c21912e-da56-4452-b0b4-edf304209139\",\"type\":\"ColumnDataSource\"},{\"attributes\":{\"callback\":null,\"column_names\":[\"width\",\"height\",\"y\",\"x\",\"fill_alpha\",\"color\",\"line_alpha\",\"label\",\"line_color\"],\"data\":{\"character\":[\"n\"],\"chart_index\":[{\"character\":\"n\"}],\"color\":[\"#f22c40\"],\"fill_alpha\":[0.8],\"height\":[509.0],\"label\":[{\"character\":\"n\"}],\"line_alpha\":[1.0],\"line_color\":[\"white\"],\"width\":[0.8],\"x\":[\"n\"],\"y\":[254.5]}},\"id\":\"c43cebcd-4a6a-4c06-873e-5cca48bd5f02\",\"type\":\"ColumnDataSource\"},{\"attributes\":{\"callback\":null,\"column_names\":[\"width\",\"height\",\"y\",\"x\",\"fill_alpha\",\"color\",\"line_alpha\",\"label\",\"line_color\"],\"data\":{\"character\":[\"7\"],\"chart_index\":[{\"character\":\"7\"}],\"color\":[\"#f22c40\"],\"fill_alpha\":[0.8],\"height\":[8.0],\"label\":[{\"character\":\"7\"}],\"line_alpha\":[1.0],\"line_color\":[\"white\"],\"width\":[0.8],\"x\":[\"7\"],\"y\":[4.0]}},\"id\":\"7c93920b-f79e-420e-b78d-8d22d4e5eb80\",\"type\":\"ColumnDataSource\"},{\"attributes\":{\"callback\":null,\"column_names\":[\"width\",\"height\",\"y\",\"x\",\"fill_alpha\",\"color\",\"line_alpha\",\"label\",\"line_color\"],\"data\":{\"character\":[\"c\"],\"chart_index\":[{\"character\":\"c\"}],\"color\":[\"#f22c40\"],\"fill_alpha\":[0.8],\"height\":[303.0],\"label\":[{\"character\":\"c\"}],\"line_alpha\":[1.0],\"line_color\":[\"white\"],\"width\":[0.8],\"x\":[\"c\"],\"y\":[151.5]}},\"id\":\"f340a37c-389f-4bf7-b5ac-c317a617ea5f\",\"type\":\"ColumnDataSource\"},{\"attributes\":{\"fill_alpha\":{\"field\":\"fill_alpha\"},\"fill_color\":{\"field\":\"color\"},\"height\":{\"field\":\"height\",\"units\":\"data\"},\"line_color\":{\"field\":\"line_color\"},\"width\":{\"field\":\"width\",\"units\":\"data\"},\"x\":{\"field\":\"x\"},\"y\":{\"field\":\"y\"}},\"id\":\"156e411b-79f0-4e28-8443-b9ab480deb2d\",\"type\":\"Rect\"},{\"attributes\":{\"plot\":null,\"text\":\"Character Frequency\"},\"id\":\"b63171ee-7309-4321-8bf3-f0c1487663a0\",\"type\":\"Title\"},{\"attributes\":{\"data_source\":{\"id\":\"5bdda66a-2372-4f43-ad4f-31deb3fbd5fc\",\"type\":\"ColumnDataSource\"},\"glyph\":{\"id\":\"a3a4c031-21eb-47ee-90e2-8f385b52293d\",\"type\":\"Rect\"},\"hover_glyph\":null,\"nonselection_glyph\":null,\"selection_glyph\":null},\"id\":\"502a7ea5-ce87-4756-913a-5ebc3006109d\",\"type\":\"GlyphRenderer\"},{\"attributes\":{\"active_drag\":\"auto\",\"active_scroll\":\"auto\",\"active_tap\":\"auto\",\"tools\":[{\"id\":\"87bd25b2-2447-4170-81ad-f7cbdd51f6fc\",\"type\":\"PanTool\"},{\"id\":\"f2f957d3-f2ce-49aa-abba-78b1061257da\",\"type\":\"WheelZoomTool\"},{\"id\":\"3f0547a7-e7e1-4c29-bdca-8d54c15599e2\",\"type\":\"BoxZoomTool\"},{\"id\":\"20641e61-a100-4e02-b71c-1f38a7e90758\",\"type\":\"SaveTool\"},{\"id\":\"70165f9b-a9cf-4ef1-b55d-640a3660adbc\",\"type\":\"ResetTool\"},{\"id\":\"3e0ef50b-60cf-4147-af4c-71014e5219b3\",\"type\":\"HelpTool\"}]},\"id\":\"b2bdae3f-4f16-4e2b-b79f-652fbce3d3d2\",\"type\":\"Toolbar\"},{\"attributes\":{\"fill_alpha\":{\"field\":\"fill_alpha\"},\"fill_color\":{\"field\":\"color\"},\"height\":{\"field\":\"height\",\"units\":\"data\"},\"line_color\":{\"field\":\"line_color\"},\"width\":{\"field\":\"width\",\"units\":\"data\"},\"x\":{\"field\":\"x\"},\"y\":{\"field\":\"y\"}},\"id\":\"ccd1e87a-c0ac-4a91-af34-c67ba6219792\",\"type\":\"Rect\"},{\"attributes\":{\"data_source\":{\"id\":\"5c19b32a-8d28-4068-9fc6-de44c5d70faa\",\"type\":\"ColumnDataSource\"},\"glyph\":{\"id\":\"ecc4c05b-489d-4e84-8796-f995dc1e188d\",\"type\":\"Rect\"},\"hover_glyph\":null,\"nonselection_glyph\":null,\"selection_glyph\":null},\"id\":\"c99dffd9-dab3-4f53-b98e-d42732cd5631\",\"type\":\"GlyphRenderer\"},{\"attributes\":{\"callback\":null,\"column_names\":[\"width\",\"height\",\"y\",\"x\",\"fill_alpha\",\"color\",\"line_alpha\",\"label\",\"line_color\"],\"data\":{\"character\":[\"u\"],\"chart_index\":[{\"character\":\"u\"}],\"color\":[\"#f22c40\"],\"fill_alpha\":[0.8],\"height\":[188.0],\"label\":[{\"character\":\"u\"}],\"line_alpha\":[1.0],\"line_color\":[\"white\"],\"width\":[0.8],\"x\":[\"u\"],\"y\":[94.0]}},\"id\":\"36250bd0-a659-436a-a7ed-1213f2ec373e\",\"type\":\"ColumnDataSource\"},{\"attributes\":{\"callback\":null,\"factors\":[\"0\",\"1\",\"2\",\"3\",\"4\",\"5\",\"6\",\"7\",\"8\",\"9\",\"a\",\"b\",\"c\",\"d\",\"e\",\"f\",\"g\",\"h\",\"i\",\"j\",\"k\",\"l\",\"m\",\"n\",\"o\",\"p\",\"q\",\"r\",\"s\",\"t\",\"u\",\"v\",\"w\",\"x\",\"y\",\"z\"]},\"id\":\"456eb016-bf68-4e59-8b78-10a7c83e8605\",\"type\":\"FactorRange\"},{\"attributes\":{\"fill_alpha\":{\"field\":\"fill_alpha\"},\"fill_color\":{\"field\":\"color\"},\"height\":{\"field\":\"height\",\"units\":\"data\"},\"line_color\":{\"field\":\"line_color\"},\"width\":{\"field\":\"width\",\"units\":\"data\"},\"x\":{\"field\":\"x\"},\"y\":{\"field\":\"y\"}},\"id\":\"09df48a6-7d97-4848-af72-510240967d8f\",\"type\":\"Rect\"},{\"attributes\":{\"axis_label\":\"Character\",\"formatter\":{\"id\":\"7ebaa86e-2d05-4289-b6ab-a44bc02a8bdb\",\"type\":\"CategoricalTickFormatter\"},\"major_label_orientation\":0.7853981633974483,\"plot\":{\"id\":\"9244822a-3146-4ed1-8ccb-48b03922ea7e\",\"subtype\":\"Chart\",\"type\":\"Plot\"},\"ticker\":{\"id\":\"f5baeb67-1749-4278-ab26-1e5ac71fc8d7\",\"type\":\"CategoricalTicker\"}},\"id\":\"5567b79a-7a74-4bc4-839f-766febb014b2\",\"type\":\"CategoricalAxis\"},{\"attributes\":{\"callback\":null,\"column_names\":[\"width\",\"height\",\"y\",\"x\",\"fill_alpha\",\"color\",\"line_alpha\",\"label\",\"line_color\"],\"data\":{\"character\":[\"d\"],\"chart_index\":[{\"character\":\"d\"}],\"color\":[\"#f22c40\"],\"fill_alpha\":[0.8],\"height\":[261.0],\"label\":[{\"character\":\"d\"}],\"line_alpha\":[1.0],\"line_color\":[\"white\"],\"width\":[0.8],\"x\":[\"d\"],\"y\":[130.5]}},\"id\":\"58e3a62e-3a47-40bc-9610-675b7fb92edf\",\"type\":\"ColumnDataSource\"},{\"attributes\":{\"callback\":null,\"column_names\":[\"width\",\"height\",\"y\",\"x\",\"fill_alpha\",\"color\",\"line_alpha\",\"label\",\"line_color\"],\"data\":{\"character\":[\"3\"],\"chart_index\":[{\"character\":\"3\"}],\"color\":[\"#f22c40\"],\"fill_alpha\":[0.8],\"height\":[44.0],\"label\":[{\"character\":\"3\"}],\"line_alpha\":[1.0],\"line_color\":[\"white\"],\"width\":[0.8],\"x\":[\"3\"],\"y\":[22.0]}},\"id\":\"57cc80a9-cc6e-420e-8cde-ca93675507e5\",\"type\":\"ColumnDataSource\"},{\"attributes\":{\"data_source\":{\"id\":\"58e3a62e-3a47-40bc-9610-675b7fb92edf\",\"type\":\"ColumnDataSource\"},\"glyph\":{\"id\":\"55a2983a-3e2e-4743-9301-27de85381a40\",\"type\":\"Rect\"},\"hover_glyph\":null,\"nonselection_glyph\":null,\"selection_glyph\":null},\"id\":\"2a030dd1-d11d-48ba-9279-13c29001893f\",\"type\":\"GlyphRenderer\"},{\"attributes\":{\"fill_alpha\":{\"field\":\"fill_alpha\"},\"fill_color\":{\"field\":\"color\"},\"height\":{\"field\":\"height\",\"units\":\"data\"},\"line_color\":{\"field\":\"line_color\"},\"width\":{\"field\":\"width\",\"units\":\"data\"},\"x\":{\"field\":\"x\"},\"y\":{\"field\":\"y\"}},\"id\":\"4011d6af-372a-4c54-bda8-282005536c80\",\"type\":\"Rect\"},{\"attributes\":{\"callback\":null,\"column_names\":[\"width\",\"height\",\"y\",\"x\",\"fill_alpha\",\"color\",\"line_alpha\",\"label\",\"line_color\"],\"data\":{\"character\":[\"b\"],\"chart_index\":[{\"character\":\"b\"}],\"color\":[\"#f22c40\"],\"fill_alpha\":[0.8],\"height\":[64.0],\"label\":[{\"character\":\"b\"}],\"line_alpha\":[1.0],\"line_color\":[\"white\"],\"width\":[0.8],\"x\":[\"b\"],\"y\":[32.0]}},\"id\":\"7f0cd583-9961-4460-8c5f-7400e100b505\",\"type\":\"ColumnDataSource\"},{\"attributes\":{\"callback\":null,\"column_names\":[\"width\",\"height\",\"y\",\"x\",\"fill_alpha\",\"color\",\"line_alpha\",\"label\",\"line_color\"],\"data\":{\"character\":[\"x\"],\"chart_index\":[{\"character\":\"x\"}],\"color\":[\"#f22c40\"],\"fill_alpha\":[0.8],\"height\":[22.0],\"label\":[{\"character\":\"x\"}],\"line_alpha\":[1.0],\"line_color\":[\"white\"],\"width\":[0.8],\"x\":[\"x\"],\"y\":[11.0]}},\"id\":\"df8f93c2-237f-4ab0-9584-eee6c5bc56f4\",\"type\":\"ColumnDataSource\"},{\"attributes\":{\"fill_alpha\":{\"field\":\"fill_alpha\"},\"fill_color\":{\"field\":\"color\"},\"height\":{\"field\":\"height\",\"units\":\"data\"},\"line_color\":{\"field\":\"line_color\"},\"width\":{\"field\":\"width\",\"units\":\"data\"},\"x\":{\"field\":\"x\"},\"y\":{\"field\":\"y\"}},\"id\":\"5a55f7d4-fdde-4117-bbe5-74666867727c\",\"type\":\"Rect\"},{\"attributes\":{\"callback\":null,\"column_names\":[\"width\",\"height\",\"y\",\"x\",\"fill_alpha\",\"color\",\"line_alpha\",\"label\",\"line_color\"],\"data\":{\"character\":[\"0\"],\"chart_index\":[{\"character\":\"0\"}],\"color\":[\"#f22c40\"],\"fill_alpha\":[0.8],\"height\":[61.0],\"label\":[{\"character\":\"0\"}],\"line_alpha\":[1.0],\"line_color\":[\"white\"],\"width\":[0.8],\"x\":[\"0\"],\"y\":[30.5]}},\"id\":\"50c37d34-02d9-4dfe-83c9-9c9ab2e7cded\",\"type\":\"ColumnDataSource\"},{\"attributes\":{\"callback\":null,\"column_names\":[\"width\",\"height\",\"y\",\"x\",\"fill_alpha\",\"color\",\"line_alpha\",\"label\",\"line_color\"],\"data\":{\"character\":[\"t\"],\"chart_index\":[{\"character\":\"t\"}],\"color\":[\"#f22c40\"],\"fill_alpha\":[0.8],\"height\":[616.0],\"label\":[{\"character\":\"t\"}],\"line_alpha\":[1.0],\"line_color\":[\"white\"],\"width\":[0.8],\"x\":[\"t\"],\"y\":[308.0]}},\"id\":\"1655ae26-6519-498c-872c-aa999a23cecf\",\"type\":\"ColumnDataSource\"},{\"attributes\":{\"fill_alpha\":{\"field\":\"fill_alpha\"},\"fill_color\":{\"field\":\"color\"},\"height\":{\"field\":\"height\",\"units\":\"data\"},\"line_color\":{\"field\":\"line_color\"},\"width\":{\"field\":\"width\",\"units\":\"data\"},\"x\":{\"field\":\"x\"},\"y\":{\"field\":\"y\"}},\"id\":\"3a4aa6c0-b503-4e48-a703-5fdfc0b724cc\",\"type\":\"Rect\"},{\"attributes\":{\"data_source\":{\"id\":\"8a822bc3-0a6a-4d2b-a63f-409bb89ee9e6\",\"type\":\"ColumnDataSource\"},\"glyph\":{\"id\":\"ddedb034-3da0-4559-a4d1-afa14aaff1fb\",\"type\":\"Rect\"},\"hover_glyph\":null,\"nonselection_glyph\":null,\"selection_glyph\":null},\"id\":\"58a609f8-146d-4bc2-91f1-f865573d9cbe\",\"type\":\"GlyphRenderer\"},{\"attributes\":{\"fill_alpha\":{\"field\":\"fill_alpha\"},\"fill_color\":{\"field\":\"color\"},\"height\":{\"field\":\"height\",\"units\":\"data\"},\"line_color\":{\"field\":\"line_color\"},\"width\":{\"field\":\"width\",\"units\":\"data\"},\"x\":{\"field\":\"x\"},\"y\":{\"field\":\"y\"}},\"id\":\"e9383ab2-8311-4d71-b2d9-b8382c55dad0\",\"type\":\"Rect\"},{\"attributes\":{\"fill_alpha\":{\"field\":\"fill_alpha\"},\"fill_color\":{\"field\":\"color\"},\"height\":{\"field\":\"height\",\"units\":\"data\"},\"line_color\":{\"field\":\"line_color\"},\"width\":{\"field\":\"width\",\"units\":\"data\"},\"x\":{\"field\":\"x\"},\"y\":{\"field\":\"y\"}},\"id\":\"8373c8b1-c6ee-4eb3-97b2-b8ca7785f5fc\",\"type\":\"Rect\"},{\"attributes\":{\"data_source\":{\"id\":\"a2bfd5c9-12d3-4fca-9295-e1b6dfd9e600\",\"type\":\"ColumnDataSource\"},\"glyph\":{\"id\":\"e9383ab2-8311-4d71-b2d9-b8382c55dad0\",\"type\":\"Rect\"},\"hover_glyph\":null,\"nonselection_glyph\":null,\"selection_glyph\":null},\"id\":\"62d04742-a9f3-4730-a6e2-aa346bb76235\",\"type\":\"GlyphRenderer\"},{\"attributes\":{\"data_source\":{\"id\":\"36250bd0-a659-436a-a7ed-1213f2ec373e\",\"type\":\"ColumnDataSource\"},\"glyph\":{\"id\":\"5da017b2-664b-44c1-9959-64087894a9b3\",\"type\":\"Rect\"},\"hover_glyph\":null,\"nonselection_glyph\":null,\"selection_glyph\":null},\"id\":\"63ecbfc5-f7fc-47f5-b81f-a5a98437f212\",\"type\":\"GlyphRenderer\"},{\"attributes\":{\"fill_alpha\":{\"field\":\"fill_alpha\"},\"fill_color\":{\"field\":\"color\"},\"height\":{\"field\":\"height\",\"units\":\"data\"},\"line_color\":{\"field\":\"line_color\"},\"width\":{\"field\":\"width\",\"units\":\"data\"},\"x\":{\"field\":\"x\"},\"y\":{\"field\":\"y\"}},\"id\":\"a6521170-6f0e-4642-a029-c7ad045d02e9\",\"type\":\"Rect\"},{\"attributes\":{\"callback\":null,\"column_names\":[\"width\",\"height\",\"y\",\"x\",\"fill_alpha\",\"color\",\"line_alpha\",\"label\",\"line_color\"],\"data\":{\"character\":[\"z\"],\"chart_index\":[{\"character\":\"z\"}],\"color\":[\"#f22c40\"],\"fill_alpha\":[0.8],\"height\":[13.0],\"label\":[{\"character\":\"z\"}],\"line_alpha\":[1.0],\"line_color\":[\"white\"],\"width\":[0.8],\"x\":[\"z\"],\"y\":[6.5]}},\"id\":\"5c19b32a-8d28-4068-9fc6-de44c5d70faa\",\"type\":\"ColumnDataSource\"},{\"attributes\":{\"data_source\":{\"id\":\"2b951ebf-e17d-4d2c-ac90-6267114c1bd8\",\"type\":\"ColumnDataSource\"},\"glyph\":{\"id\":\"30393925-e5b2-4d7d-ac9f-f1f5da871908\",\"type\":\"Rect\"},\"hover_glyph\":null,\"nonselection_glyph\":null,\"selection_glyph\":null},\"id\":\"143c0024-c83f-4afd-a797-75461dfb5e07\",\"type\":\"GlyphRenderer\"},{\"attributes\":{\"callback\":null,\"column_names\":[\"width\",\"height\",\"y\",\"x\",\"fill_alpha\",\"color\",\"line_alpha\",\"label\",\"line_color\"],\"data\":{\"character\":[\"5\"],\"chart_index\":[{\"character\":\"5\"}],\"color\":[\"#f22c40\"],\"fill_alpha\":[0.8],\"height\":[20.0],\"label\":[{\"character\":\"5\"}],\"line_alpha\":[1.0],\"line_color\":[\"white\"],\"width\":[0.8],\"x\":[\"5\"],\"y\":[10.0]}},\"id\":\"a2bfd5c9-12d3-4fca-9295-e1b6dfd9e600\",\"type\":\"ColumnDataSource\"},{\"attributes\":{\"data_source\":{\"id\":\"f6be8d31-8243-4f82-9aa5-2ad0b49369b4\",\"type\":\"ColumnDataSource\"},\"glyph\":{\"id\":\"c11ba435-03b3-49ea-bb6e-be21fed96f07\",\"type\":\"Rect\"},\"hover_glyph\":null,\"nonselection_glyph\":null,\"selection_glyph\":null},\"id\":\"c56e4f4c-69b7-4b0b-beef-154432a3dee9\",\"type\":\"GlyphRenderer\"},{\"attributes\":{\"fill_alpha\":{\"field\":\"fill_alpha\"},\"fill_color\":{\"field\":\"color\"},\"height\":{\"field\":\"height\",\"units\":\"data\"},\"line_color\":{\"field\":\"line_color\"},\"width\":{\"field\":\"width\",\"units\":\"data\"},\"x\":{\"field\":\"x\"},\"y\":{\"field\":\"y\"}},\"id\":\"97cd4e6f-5af8-4f9c-85af-a13c524f464c\",\"type\":\"Rect\"},{\"attributes\":{\"data_source\":{\"id\":\"3bdc649e-c57b-4adc-9292-199cc8327bbe\",\"type\":\"ColumnDataSource\"},\"glyph\":{\"id\":\"5a55f7d4-fdde-4117-bbe5-74666867727c\",\"type\":\"Rect\"},\"hover_glyph\":null,\"nonselection_glyph\":null,\"selection_glyph\":null},\"id\":\"a059817e-ecba-469f-8bc6-dcff38f3ac49\",\"type\":\"GlyphRenderer\"},{\"attributes\":{\"fill_alpha\":{\"field\":\"fill_alpha\"},\"fill_color\":{\"field\":\"color\"},\"height\":{\"field\":\"height\",\"units\":\"data\"},\"line_color\":{\"field\":\"line_color\"},\"width\":{\"field\":\"width\",\"units\":\"data\"},\"x\":{\"field\":\"x\"},\"y\":{\"field\":\"y\"}},\"id\":\"ddedb034-3da0-4559-a4d1-afa14aaff1fb\",\"type\":\"Rect\"},{\"attributes\":{\"callback\":null,\"column_names\":[\"width\",\"height\",\"y\",\"x\",\"fill_alpha\",\"color\",\"line_alpha\",\"label\",\"line_color\"],\"data\":{\"character\":[\"e\"],\"chart_index\":[{\"character\":\"e\"}],\"color\":[\"#f22c40\"],\"fill_alpha\":[0.8],\"height\":[768.0],\"label\":[{\"character\":\"e\"}],\"line_alpha\":[1.0],\"line_color\":[\"white\"],\"width\":[0.8],\"x\":[\"e\"],\"y\":[384.0]}},\"id\":\"3c96d364-b367-419d-becd-19b8f4a37752\",\"type\":\"ColumnDataSource\"},{\"attributes\":{\"below\":[{\"id\":\"5567b79a-7a74-4bc4-839f-766febb014b2\",\"type\":\"CategoricalAxis\"}],\"css_classes\":null,\"left\":[{\"id\":\"1b00c297-c83d-4c5c-af63-40b54952f532\",\"type\":\"LinearAxis\"}],\"renderers\":[{\"id\":\"5e4e1d7b-29a6-4fd3-8ed6-448e4481a972\",\"type\":\"BoxAnnotation\"},{\"id\":\"a3a3cbba-36c8-4dd5-a2a9-7701c2038cfe\",\"type\":\"GlyphRenderer\"},{\"id\":\"c56e4f4c-69b7-4b0b-beef-154432a3dee9\",\"type\":\"GlyphRenderer\"},{\"id\":\"e52129b3-7749-40c2-bf69-5cc510e05621\",\"type\":\"GlyphRenderer\"},{\"id\":\"4080dafb-1642-4a1a-a53f-30878554cc56\",\"type\":\"GlyphRenderer\"},{\"id\":\"502a7ea5-ce87-4756-913a-5ebc3006109d\",\"type\":\"GlyphRenderer\"},{\"id\":\"9e6e9f35-b12b-41fb-94ec-626d37eda57d\",\"type\":\"GlyphRenderer\"},{\"id\":\"6091bb02-2ce2-4ed8-8d2c-38bc253e9f32\",\"type\":\"GlyphRenderer\"},{\"id\":\"530f5aef-523e-4bb7-9cbf-52d895c64ea7\",\"type\":\"GlyphRenderer\"},{\"id\":\"143c0024-c83f-4afd-a797-75461dfb5e07\",\"type\":\"GlyphRenderer\"},{\"id\":\"df688087-b996-476a-b9f5-0f7ad064a0ca\",\"type\":\"GlyphRenderer\"},{\"id\":\"63ecbfc5-f7fc-47f5-b81f-a5a98437f212\",\"type\":\"GlyphRenderer\"},{\"id\":\"aa33074b-0eab-4970-946c-f175d6f14e6f\",\"type\":\"GlyphRenderer\"},{\"id\":\"23c50d1a-45ba-4ea8-9cc5-f8e6dbd30eed\",\"type\":\"GlyphRenderer\"},{\"id\":\"7e39412e-b0f3-4a36-a0df-b47c90595133\",\"type\":\"GlyphRenderer\"},{\"id\":\"62d04742-a9f3-4730-a6e2-aa346bb76235\",\"type\":\"GlyphRenderer\"},{\"id\":\"2a030dd1-d11d-48ba-9279-13c29001893f\",\"type\":\"GlyphRenderer\"},{\"id\":\"62cb3039-5f3a-4c4f-b15b-5782370b81be\",\"type\":\"GlyphRenderer\"},{\"id\":\"5b045df2-8963-4881-ae47-61108dde30e6\",\"type\":\"GlyphRenderer\"},{\"id\":\"58a609f8-146d-4bc2-91f1-f865573d9cbe\",\"type\":\"GlyphRenderer\"},{\"id\":\"c07e0840-e21a-47d8-ac8b-ad9d757ac738\",\"type\":\"GlyphRenderer\"},{\"id\":\"791b24e9-fe9f-45e6-b8f9-6c0416c9f719\",\"type\":\"GlyphRenderer\"},{\"id\":\"57bbd3ca-fbdc-4918-bdc2-d6e3b8fd1518\",\"type\":\"GlyphRenderer\"},{\"id\":\"ff808e31-e5e3-4821-b645-174d7bc28903\",\"type\":\"GlyphRenderer\"},{\"id\":\"0a2693c7-f927-46e8-9085-e1bcd902000e\",\"type\":\"GlyphRenderer\"},{\"id\":\"31300705-1abe-4f60-a829-3ff766b0f923\",\"type\":\"GlyphRenderer\"},{\"id\":\"3e371ec0-0766-4f38-93af-c7d452b2d57e\",\"type\":\"GlyphRenderer\"},{\"id\":\"5383d7b3-22e9-4f89-b98b-0ff0bc3c3986\",\"type\":\"GlyphRenderer\"},{\"id\":\"304456b8-64b3-4cf3-9195-e9b01435d803\",\"type\":\"GlyphRenderer\"},{\"id\":\"75039f94-07e3-4ca2-bbc9-16f550645452\",\"type\":\"GlyphRenderer\"},{\"id\":\"7b6d193b-6422-4a85-9aa1-5c573407a9cf\",\"type\":\"GlyphRenderer\"},{\"id\":\"4921337d-226b-4cd0-ba3e-5b5876403300\",\"type\":\"GlyphRenderer\"},{\"id\":\"28df66d3-f0b2-4cdb-a6a5-24f3ddeea181\",\"type\":\"GlyphRenderer\"},{\"id\":\"a059817e-ecba-469f-8bc6-dcff38f3ac49\",\"type\":\"GlyphRenderer\"},{\"id\":\"c99dffd9-dab3-4f53-b98e-d42732cd5631\",\"type\":\"GlyphRenderer\"},{\"id\":\"24210139-9e14-4227-bc93-4aea266e1cad\",\"type\":\"GlyphRenderer\"},{\"id\":\"7b521d9f-070d-47ab-abd6-addeeb3b0ed2\",\"type\":\"GlyphRenderer\"},{\"id\":\"5567b79a-7a74-4bc4-839f-766febb014b2\",\"type\":\"CategoricalAxis\"},{\"id\":\"1b00c297-c83d-4c5c-af63-40b54952f532\",\"type\":\"LinearAxis\"},{\"id\":\"fa122571-5f30-4f5c-b431-522a3ee85cbc\",\"type\":\"Grid\"}],\"title\":{\"id\":\"b63171ee-7309-4321-8bf3-f0c1487663a0\",\"type\":\"Title\"},\"tool_events\":{\"id\":\"fb7d3e30-291a-41cd-aece-e37e98851217\",\"type\":\"ToolEvents\"},\"toolbar\":{\"id\":\"b2bdae3f-4f16-4e2b-b79f-652fbce3d3d2\",\"type\":\"Toolbar\"},\"x_mapper_type\":\"auto\",\"x_range\":{\"id\":\"456eb016-bf68-4e59-8b78-10a7c83e8605\",\"type\":\"FactorRange\"},\"y_mapper_type\":\"auto\",\"y_range\":{\"id\":\"a4a29d8f-d202-43b9-9a24-31a18fca04be\",\"type\":\"Range1d\"}},\"id\":\"9244822a-3146-4ed1-8ccb-48b03922ea7e\",\"subtype\":\"Chart\",\"type\":\"Plot\"},{\"attributes\":{\"data_source\":{\"id\":\"5a77e47d-fd28-4756-bbe2-b75739e4d01e\",\"type\":\"ColumnDataSource\"},\"glyph\":{\"id\":\"3d199bf2-c0a9-434d-9f78-aca403f1cb29\",\"type\":\"Rect\"},\"hover_glyph\":null,\"nonselection_glyph\":null,\"selection_glyph\":null},\"id\":\"5b045df2-8963-4881-ae47-61108dde30e6\",\"type\":\"GlyphRenderer\"},{\"attributes\":{\"data_source\":{\"id\":\"7f0cd583-9961-4460-8c5f-7400e100b505\",\"type\":\"ColumnDataSource\"},\"glyph\":{\"id\":\"85a1a274-4a2c-467a-80d1-810a04327a60\",\"type\":\"Rect\"},\"hover_glyph\":null,\"nonselection_glyph\":null,\"selection_glyph\":null},\"id\":\"24210139-9e14-4227-bc93-4aea266e1cad\",\"type\":\"GlyphRenderer\"},{\"attributes\":{\"fill_alpha\":{\"field\":\"fill_alpha\"},\"fill_color\":{\"field\":\"color\"},\"height\":{\"field\":\"height\",\"units\":\"data\"},\"line_color\":{\"field\":\"line_color\"},\"width\":{\"field\":\"width\",\"units\":\"data\"},\"x\":{\"field\":\"x\"},\"y\":{\"field\":\"y\"}},\"id\":\"85a1a274-4a2c-467a-80d1-810a04327a60\",\"type\":\"Rect\"},{\"attributes\":{\"callback\":null,\"column_names\":[\"width\",\"height\",\"y\",\"x\",\"fill_alpha\",\"color\",\"line_alpha\",\"label\",\"line_color\"],\"data\":{\"character\":[\"w\"],\"chart_index\":[{\"character\":\"w\"}],\"color\":[\"#f22c40\"],\"fill_alpha\":[0.8],\"height\":[89.0],\"label\":[{\"character\":\"w\"}],\"line_alpha\":[1.0],\"line_color\":[\"white\"],\"width\":[0.8],\"x\":[\"w\"],\"y\":[44.5]}},\"id\":\"a1b4dada-de1b-484a-b312-39d001947a23\",\"type\":\"ColumnDataSource\"},{\"attributes\":{\"callback\":null,\"column_names\":[\"width\",\"height\",\"y\",\"x\",\"fill_alpha\",\"color\",\"line_alpha\",\"label\",\"line_color\"],\"data\":{\"character\":[\"i\"],\"chart_index\":[{\"character\":\"i\"}],\"color\":[\"#f22c40\"],\"fill_alpha\":[0.8],\"height\":[624.0],\"label\":[{\"character\":\"i\"}],\"line_alpha\":[1.0],\"line_color\":[\"white\"],\"width\":[0.8],\"x\":[\"i\"],\"y\":[312.0]}},\"id\":\"c77abe01-ea57-4837-a9de-af80919cae70\",\"type\":\"ColumnDataSource\"},{\"attributes\":{\"fill_alpha\":{\"field\":\"fill_alpha\"},\"fill_color\":{\"field\":\"color\"},\"height\":{\"field\":\"height\",\"units\":\"data\"},\"line_color\":{\"field\":\"line_color\"},\"width\":{\"field\":\"width\",\"units\":\"data\"},\"x\":{\"field\":\"x\"},\"y\":{\"field\":\"y\"}},\"id\":\"30393925-e5b2-4d7d-ac9f-f1f5da871908\",\"type\":\"Rect\"},{\"attributes\":{},\"id\":\"fb7d3e30-291a-41cd-aece-e37e98851217\",\"type\":\"ToolEvents\"},{\"attributes\":{\"data_source\":{\"id\":\"f340a37c-389f-4bf7-b5ac-c317a617ea5f\",\"type\":\"ColumnDataSource\"},\"glyph\":{\"id\":\"6af36042-9012-4f15-ba21-09b5cc0f8549\",\"type\":\"Rect\"},\"hover_glyph\":null,\"nonselection_glyph\":null,\"selection_glyph\":null},\"id\":\"aa33074b-0eab-4970-946c-f175d6f14e6f\",\"type\":\"GlyphRenderer\"},{\"attributes\":{\"fill_alpha\":{\"field\":\"fill_alpha\"},\"fill_color\":{\"field\":\"color\"},\"height\":{\"field\":\"height\",\"units\":\"data\"},\"line_color\":{\"field\":\"line_color\"},\"width\":{\"field\":\"width\",\"units\":\"data\"},\"x\":{\"field\":\"x\"},\"y\":{\"field\":\"y\"}},\"id\":\"cb5ae6ca-0b0b-4560-bc4d-89acb6e017ad\",\"type\":\"Rect\"},{\"attributes\":{\"dimension\":1,\"plot\":{\"id\":\"9244822a-3146-4ed1-8ccb-48b03922ea7e\",\"subtype\":\"Chart\",\"type\":\"Plot\"},\"ticker\":{\"id\":\"9630ef2f-8e20-45bb-b3a1-ced087576b30\",\"type\":\"BasicTicker\"}},\"id\":\"fa122571-5f30-4f5c-b431-522a3ee85cbc\",\"type\":\"Grid\"},{\"attributes\":{\"fill_alpha\":{\"field\":\"fill_alpha\"},\"fill_color\":{\"field\":\"color\"},\"height\":{\"field\":\"height\",\"units\":\"data\"},\"line_color\":{\"field\":\"line_color\"},\"width\":{\"field\":\"width\",\"units\":\"data\"},\"x\":{\"field\":\"x\"},\"y\":{\"field\":\"y\"}},\"id\":\"9033348c-45d3-47c6-b567-e280e3d1f7e9\",\"type\":\"Rect\"},{\"attributes\":{\"overlay\":{\"id\":\"5e4e1d7b-29a6-4fd3-8ed6-448e4481a972\",\"type\":\"BoxAnnotation\"},\"plot\":{\"id\":\"9244822a-3146-4ed1-8ccb-48b03922ea7e\",\"subtype\":\"Chart\",\"type\":\"Plot\"}},\"id\":\"3f0547a7-e7e1-4c29-bdca-8d54c15599e2\",\"type\":\"BoxZoomTool\"},{\"attributes\":{\"fill_alpha\":{\"field\":\"fill_alpha\"},\"fill_color\":{\"field\":\"color\"},\"height\":{\"field\":\"height\",\"units\":\"data\"},\"line_color\":{\"field\":\"line_color\"},\"width\":{\"field\":\"width\",\"units\":\"data\"},\"x\":{\"field\":\"x\"},\"y\":{\"field\":\"y\"}},\"id\":\"4c4c1349-f608-4681-a7b8-2a075ec640c0\",\"type\":\"Rect\"},{\"attributes\":{\"fill_alpha\":{\"field\":\"fill_alpha\"},\"fill_color\":{\"field\":\"color\"},\"height\":{\"field\":\"height\",\"units\":\"data\"},\"line_color\":{\"field\":\"line_color\"},\"width\":{\"field\":\"width\",\"units\":\"data\"},\"x\":{\"field\":\"x\"},\"y\":{\"field\":\"y\"}},\"id\":\"5da017b2-664b-44c1-9959-64087894a9b3\",\"type\":\"Rect\"},{\"attributes\":{\"data_source\":{\"id\":\"24b34a06-4981-4299-a66e-fc3153ffe793\",\"type\":\"ColumnDataSource\"},\"glyph\":{\"id\":\"a6521170-6f0e-4642-a029-c7ad045d02e9\",\"type\":\"Rect\"},\"hover_glyph\":null,\"nonselection_glyph\":null,\"selection_glyph\":null},\"id\":\"3e371ec0-0766-4f38-93af-c7d452b2d57e\",\"type\":\"GlyphRenderer\"},{\"attributes\":{\"fill_alpha\":{\"field\":\"fill_alpha\"},\"fill_color\":{\"field\":\"color\"},\"height\":{\"field\":\"height\",\"units\":\"data\"},\"line_color\":{\"field\":\"line_color\"},\"width\":{\"field\":\"width\",\"units\":\"data\"},\"x\":{\"field\":\"x\"},\"y\":{\"field\":\"y\"}},\"id\":\"a52c915a-6675-4d12-b500-983b371999bd\",\"type\":\"Rect\"},{\"attributes\":{\"fill_alpha\":{\"field\":\"fill_alpha\"},\"fill_color\":{\"field\":\"color\"},\"height\":{\"field\":\"height\",\"units\":\"data\"},\"line_color\":{\"field\":\"line_color\"},\"width\":{\"field\":\"width\",\"units\":\"data\"},\"x\":{\"field\":\"x\"},\"y\":{\"field\":\"y\"}},\"id\":\"6af36042-9012-4f15-ba21-09b5cc0f8549\",\"type\":\"Rect\"},{\"attributes\":{\"plot\":{\"id\":\"9244822a-3146-4ed1-8ccb-48b03922ea7e\",\"subtype\":\"Chart\",\"type\":\"Plot\"}},\"id\":\"87bd25b2-2447-4170-81ad-f7cbdd51f6fc\",\"type\":\"PanTool\"},{\"attributes\":{\"callback\":null,\"column_names\":[\"width\",\"height\",\"y\",\"x\",\"fill_alpha\",\"color\",\"line_alpha\",\"label\",\"line_color\"],\"data\":{\"character\":[\"1\"],\"chart_index\":[{\"character\":\"1\"}],\"color\":[\"#f22c40\"],\"fill_alpha\":[0.8],\"height\":[74.0],\"label\":[{\"character\":\"1\"}],\"line_alpha\":[1.0],\"line_color\":[\"white\"],\"width\":[0.8],\"x\":[\"1\"],\"y\":[37.0]}},\"id\":\"39171fbb-a9b2-4288-bd73-8829e47c6f93\",\"type\":\"ColumnDataSource\"},{\"attributes\":{\"plot\":{\"id\":\"9244822a-3146-4ed1-8ccb-48b03922ea7e\",\"subtype\":\"Chart\",\"type\":\"Plot\"}},\"id\":\"70165f9b-a9cf-4ef1-b55d-640a3660adbc\",\"type\":\"ResetTool\"},{\"attributes\":{\"fill_alpha\":{\"field\":\"fill_alpha\"},\"fill_color\":{\"field\":\"color\"},\"height\":{\"field\":\"height\",\"units\":\"data\"},\"line_color\":{\"field\":\"line_color\"},\"width\":{\"field\":\"width\",\"units\":\"data\"},\"x\":{\"field\":\"x\"},\"y\":{\"field\":\"y\"}},\"id\":\"c11ba435-03b3-49ea-bb6e-be21fed96f07\",\"type\":\"Rect\"},{\"attributes\":{\"fill_alpha\":{\"field\":\"fill_alpha\"},\"fill_color\":{\"field\":\"color\"},\"height\":{\"field\":\"height\",\"units\":\"data\"},\"line_color\":{\"field\":\"line_color\"},\"width\":{\"field\":\"width\",\"units\":\"data\"},\"x\":{\"field\":\"x\"},\"y\":{\"field\":\"y\"}},\"id\":\"f8051fa0-ecd1-4f4d-a144-3d3543d229c0\",\"type\":\"Rect\"},{\"attributes\":{\"data_source\":{\"id\":\"57cc80a9-cc6e-420e-8cde-ca93675507e5\",\"type\":\"ColumnDataSource\"},\"glyph\":{\"id\":\"ccd1e87a-c0ac-4a91-af34-c67ba6219792\",\"type\":\"Rect\"},\"hover_glyph\":null,\"nonselection_glyph\":null,\"selection_glyph\":null},\"id\":\"7b6d193b-6422-4a85-9aa1-5c573407a9cf\",\"type\":\"GlyphRenderer\"},{\"attributes\":{\"callback\":null,\"column_names\":[\"width\",\"height\",\"y\",\"x\",\"fill_alpha\",\"color\",\"line_alpha\",\"label\",\"line_color\"],\"data\":{\"character\":[\"y\"],\"chart_index\":[{\"character\":\"y\"}],\"color\":[\"#f22c40\"],\"fill_alpha\":[0.8],\"height\":[118.0],\"label\":[{\"character\":\"y\"}],\"line_alpha\":[1.0],\"line_color\":[\"white\"],\"width\":[0.8],\"x\":[\"y\"],\"y\":[59.0]}},\"id\":\"49808047-7465-417f-82cc-3075fd05bcf1\",\"type\":\"ColumnDataSource\"},{\"attributes\":{\"data_source\":{\"id\":\"8579c25f-88ab-41d5-9a87-04a1f15266ab\",\"type\":\"ColumnDataSource\"},\"glyph\":{\"id\":\"634cade6-2fe8-4ff3-8a40-41e2bd4e32a7\",\"type\":\"Rect\"},\"hover_glyph\":null,\"nonselection_glyph\":null,\"selection_glyph\":null},\"id\":\"5383d7b3-22e9-4f89-b98b-0ff0bc3c3986\",\"type\":\"GlyphRenderer\"},{\"attributes\":{\"data_source\":{\"id\":\"3ade6621-d7c3-4de6-999f-e9269d424e66\",\"type\":\"ColumnDataSource\"},\"glyph\":{\"id\":\"b3edc6f9-b163-4896-97ce-2e6f0ca184b8\",\"type\":\"Rect\"},\"hover_glyph\":null,\"nonselection_glyph\":null,\"selection_glyph\":null},\"id\":\"28df66d3-f0b2-4cdb-a6a5-24f3ddeea181\",\"type\":\"GlyphRenderer\"},{\"attributes\":{\"data_source\":{\"id\":\"7eff89db-05a3-47dd-9661-2ce48bb04f48\",\"type\":\"ColumnDataSource\"},\"glyph\":{\"id\":\"402ae59c-584c-4a58-a034-1cffe96f3ffa\",\"type\":\"Rect\"},\"hover_glyph\":null,\"nonselection_glyph\":null,\"selection_glyph\":null},\"id\":\"31300705-1abe-4f60-a829-3ff766b0f923\",\"type\":\"GlyphRenderer\"},{\"attributes\":{\"data_source\":{\"id\":\"780e94e1-e416-420d-ad4c-08f727384d53\",\"type\":\"ColumnDataSource\"},\"glyph\":{\"id\":\"3a4aa6c0-b503-4e48-a703-5fdfc0b724cc\",\"type\":\"Rect\"},\"hover_glyph\":null,\"nonselection_glyph\":null,\"selection_glyph\":null},\"id\":\"304456b8-64b3-4cf3-9195-e9b01435d803\",\"type\":\"GlyphRenderer\"},{\"attributes\":{\"data_source\":{\"id\":\"c77abe01-ea57-4837-a9de-af80919cae70\",\"type\":\"ColumnDataSource\"},\"glyph\":{\"id\":\"8373c8b1-c6ee-4eb3-97b2-b8ca7785f5fc\",\"type\":\"Rect\"},\"hover_glyph\":null,\"nonselection_glyph\":null,\"selection_glyph\":null},\"id\":\"75039f94-07e3-4ca2-bbc9-16f550645452\",\"type\":\"GlyphRenderer\"},{\"attributes\":{\"data_source\":{\"id\":\"1655ae26-6519-498c-872c-aa999a23cecf\",\"type\":\"ColumnDataSource\"},\"glyph\":{\"id\":\"f8a7e464-6edb-4530-b479-b49813db5f5c\",\"type\":\"Rect\"},\"hover_glyph\":null,\"nonselection_glyph\":null,\"selection_glyph\":null},\"id\":\"57bbd3ca-fbdc-4918-bdc2-d6e3b8fd1518\",\"type\":\"GlyphRenderer\"},{\"attributes\":{\"fill_alpha\":{\"field\":\"fill_alpha\"},\"fill_color\":{\"field\":\"color\"},\"height\":{\"field\":\"height\",\"units\":\"data\"},\"line_color\":{\"field\":\"line_color\"},\"width\":{\"field\":\"width\",\"units\":\"data\"},\"x\":{\"field\":\"x\"},\"y\":{\"field\":\"y\"}},\"id\":\"db049954-7fe1-4fbf-88e2-c44084c4021b\",\"type\":\"Rect\"},{\"attributes\":{\"callback\":null,\"column_names\":[\"width\",\"height\",\"y\",\"x\",\"fill_alpha\",\"color\",\"line_alpha\",\"label\",\"line_color\"],\"data\":{\"character\":[\"8\"],\"chart_index\":[{\"character\":\"8\"}],\"color\":[\"#f22c40\"],\"fill_alpha\":[0.8],\"height\":[12.0],\"label\":[{\"character\":\"8\"}],\"line_alpha\":[1.0],\"line_color\":[\"white\"],\"width\":[0.8],\"x\":[\"8\"],\"y\":[6.0]}},\"id\":\"c6717e2f-a369-4fd1-9cc3-da9bb050c5b2\",\"type\":\"ColumnDataSource\"},{\"attributes\":{\"data_source\":{\"id\":\"3c96d364-b367-419d-becd-19b8f4a37752\",\"type\":\"ColumnDataSource\"},\"glyph\":{\"id\":\"5b7f152b-7450-45e0-b12d-d58ffdc2bc8d\",\"type\":\"Rect\"},\"hover_glyph\":null,\"nonselection_glyph\":null,\"selection_glyph\":null},\"id\":\"7b521d9f-070d-47ab-abd6-addeeb3b0ed2\",\"type\":\"GlyphRenderer\"},{\"attributes\":{\"data_source\":{\"id\":\"1c21912e-da56-4452-b0b4-edf304209139\",\"type\":\"ColumnDataSource\"},\"glyph\":{\"id\":\"58e3e7fb-971b-488e-95f1-c2ce73ceb4f4\",\"type\":\"Rect\"},\"hover_glyph\":null,\"nonselection_glyph\":null,\"selection_glyph\":null},\"id\":\"7e39412e-b0f3-4a36-a0df-b47c90595133\",\"type\":\"GlyphRenderer\"},{\"attributes\":{\"fill_alpha\":{\"field\":\"fill_alpha\"},\"fill_color\":{\"field\":\"color\"},\"height\":{\"field\":\"height\",\"units\":\"data\"},\"line_color\":{\"field\":\"line_color\"},\"width\":{\"field\":\"width\",\"units\":\"data\"},\"x\":{\"field\":\"x\"},\"y\":{\"field\":\"y\"}},\"id\":\"3d199bf2-c0a9-434d-9f78-aca403f1cb29\",\"type\":\"Rect\"},{\"attributes\":{\"fill_alpha\":{\"field\":\"fill_alpha\"},\"fill_color\":{\"field\":\"color\"},\"height\":{\"field\":\"height\",\"units\":\"data\"},\"line_color\":{\"field\":\"line_color\"},\"width\":{\"field\":\"width\",\"units\":\"data\"},\"x\":{\"field\":\"x\"},\"y\":{\"field\":\"y\"}},\"id\":\"402ae59c-584c-4a58-a034-1cffe96f3ffa\",\"type\":\"Rect\"},{\"attributes\":{\"callback\":null,\"column_names\":[\"width\",\"height\",\"y\",\"x\",\"fill_alpha\",\"color\",\"line_alpha\",\"label\",\"line_color\"],\"data\":{\"character\":[\"a\"],\"chart_index\":[{\"character\":\"a\"}],\"color\":[\"#f22c40\"],\"fill_alpha\":[0.8],\"height\":[706.0],\"label\":[{\"character\":\"a\"}],\"line_alpha\":[1.0],\"line_color\":[\"white\"],\"width\":[0.8],\"x\":[\"a\"],\"y\":[353.0]}},\"id\":\"3bdc649e-c57b-4adc-9292-199cc8327bbe\",\"type\":\"ColumnDataSource\"},{\"attributes\":{},\"id\":\"9630ef2f-8e20-45bb-b3a1-ced087576b30\",\"type\":\"BasicTicker\"},{\"attributes\":{\"data_source\":{\"id\":\"d38565ed-98ec-440a-a6cd-dbbea0341127\",\"type\":\"ColumnDataSource\"},\"glyph\":{\"id\":\"cb5ae6ca-0b0b-4560-bc4d-89acb6e017ad\",\"type\":\"Rect\"},\"hover_glyph\":null,\"nonselection_glyph\":null,\"selection_glyph\":null},\"id\":\"a3a3cbba-36c8-4dd5-a2a9-7701c2038cfe\",\"type\":\"GlyphRenderer\"},{\"attributes\":{\"data_source\":{\"id\":\"50c37d34-02d9-4dfe-83c9-9c9ab2e7cded\",\"type\":\"ColumnDataSource\"},\"glyph\":{\"id\":\"4011d6af-372a-4c54-bda8-282005536c80\",\"type\":\"Rect\"},\"hover_glyph\":null,\"nonselection_glyph\":null,\"selection_glyph\":null},\"id\":\"6091bb02-2ce2-4ed8-8d2c-38bc253e9f32\",\"type\":\"GlyphRenderer\"},{\"attributes\":{\"fill_alpha\":{\"field\":\"fill_alpha\"},\"fill_color\":{\"field\":\"color\"},\"height\":{\"field\":\"height\",\"units\":\"data\"},\"line_color\":{\"field\":\"line_color\"},\"width\":{\"field\":\"width\",\"units\":\"data\"},\"x\":{\"field\":\"x\"},\"y\":{\"field\":\"y\"}},\"id\":\"043583bb-09bf-4b49-9d8d-0cda26600c61\",\"type\":\"Rect\"},{\"attributes\":{\"callback\":null,\"column_names\":[\"width\",\"height\",\"y\",\"x\",\"fill_alpha\",\"color\",\"line_alpha\",\"label\",\"line_color\"],\"data\":{\"character\":[\"6\"],\"chart_index\":[{\"character\":\"6\"}],\"color\":[\"#f22c40\"],\"fill_alpha\":[0.8],\"height\":[12.0],\"label\":[{\"character\":\"6\"}],\"line_alpha\":[1.0],\"line_color\":[\"white\"],\"width\":[0.8],\"x\":[\"6\"],\"y\":[6.0]}},\"id\":\"2b951ebf-e17d-4d2c-ac90-6267114c1bd8\",\"type\":\"ColumnDataSource\"},{\"attributes\":{\"data_source\":{\"id\":\"1b49d234-0367-4038-89aa-f48937ae9f00\",\"type\":\"ColumnDataSource\"},\"glyph\":{\"id\":\"db049954-7fe1-4fbf-88e2-c44084c4021b\",\"type\":\"Rect\"},\"hover_glyph\":null,\"nonselection_glyph\":null,\"selection_glyph\":null},\"id\":\"c07e0840-e21a-47d8-ac8b-ad9d757ac738\",\"type\":\"GlyphRenderer\"},{\"attributes\":{\"fill_alpha\":{\"field\":\"fill_alpha\"},\"fill_color\":{\"field\":\"color\"},\"height\":{\"field\":\"height\",\"units\":\"data\"},\"line_color\":{\"field\":\"line_color\"},\"width\":{\"field\":\"width\",\"units\":\"data\"},\"x\":{\"field\":\"x\"},\"y\":{\"field\":\"y\"}},\"id\":\"5b7f152b-7450-45e0-b12d-d58ffdc2bc8d\",\"type\":\"Rect\"},{\"attributes\":{\"callback\":null,\"column_names\":[\"width\",\"height\",\"y\",\"x\",\"fill_alpha\",\"color\",\"line_alpha\",\"label\",\"line_color\"],\"data\":{\"character\":[\"k\"],\"chart_index\":[{\"character\":\"k\"}],\"color\":[\"#f22c40\"],\"fill_alpha\":[0.8],\"height\":[47.0],\"label\":[{\"character\":\"k\"}],\"line_alpha\":[1.0],\"line_color\":[\"white\"],\"width\":[0.8],\"x\":[\"k\"],\"y\":[23.5]}},\"id\":\"3ade6621-d7c3-4de6-999f-e9269d424e66\",\"type\":\"ColumnDataSource\"},{\"attributes\":{\"callback\":null,\"column_names\":[\"width\",\"height\",\"y\",\"x\",\"fill_alpha\",\"color\",\"line_alpha\",\"label\",\"line_color\"],\"data\":{\"character\":[\"q\"],\"chart_index\":[{\"character\":\"q\"}],\"color\":[\"#f22c40\"],\"fill_alpha\":[0.8],\"height\":[5.0],\"label\":[{\"character\":\"q\"}],\"line_alpha\":[1.0],\"line_color\":[\"white\"],\"width\":[0.8],\"x\":[\"q\"],\"y\":[2.5]}},\"id\":\"5a77e47d-fd28-4756-bbe2-b75739e4d01e\",\"type\":\"ColumnDataSource\"},{\"attributes\":{\"callback\":null,\"column_names\":[\"width\",\"height\",\"y\",\"x\",\"fill_alpha\",\"color\",\"line_alpha\",\"label\",\"line_color\"],\"data\":{\"character\":[\"f\"],\"chart_index\":[{\"character\":\"f\"}],\"color\":[\"#f22c40\"],\"fill_alpha\":[0.8],\"height\":[119.0],\"label\":[{\"character\":\"f\"}],\"line_alpha\":[1.0],\"line_color\":[\"white\"],\"width\":[0.8],\"x\":[\"f\"],\"y\":[59.5]}},\"id\":\"24b34a06-4981-4299-a66e-fc3153ffe793\",\"type\":\"ColumnDataSource\"},{\"attributes\":{\"fill_alpha\":{\"field\":\"fill_alpha\"},\"fill_color\":{\"field\":\"color\"},\"height\":{\"field\":\"height\",\"units\":\"data\"},\"line_color\":{\"field\":\"line_color\"},\"width\":{\"field\":\"width\",\"units\":\"data\"},\"x\":{\"field\":\"x\"},\"y\":{\"field\":\"y\"}},\"id\":\"f09fd460-c53e-4cdc-99d4-afe0d3e968a0\",\"type\":\"Rect\"},{\"attributes\":{\"data_source\":{\"id\":\"2d76a6fa-98c6-45bf-9ab5-0019a92f4e2b\",\"type\":\"ColumnDataSource\"},\"glyph\":{\"id\":\"97cd4e6f-5af8-4f9c-85af-a13c524f464c\",\"type\":\"Rect\"},\"hover_glyph\":null,\"nonselection_glyph\":null,\"selection_glyph\":null},\"id\":\"ff808e31-e5e3-4821-b645-174d7bc28903\",\"type\":\"GlyphRenderer\"},{\"attributes\":{\"data_source\":{\"id\":\"a1b4dada-de1b-484a-b312-39d001947a23\",\"type\":\"ColumnDataSource\"},\"glyph\":{\"id\":\"043583bb-09bf-4b49-9d8d-0cda26600c61\",\"type\":\"Rect\"},\"hover_glyph\":null,\"nonselection_glyph\":null,\"selection_glyph\":null},\"id\":\"9e6e9f35-b12b-41fb-94ec-626d37eda57d\",\"type\":\"GlyphRenderer\"},{\"attributes\":{\"callback\":null,\"column_names\":[\"width\",\"height\",\"y\",\"x\",\"fill_alpha\",\"color\",\"line_alpha\",\"label\",\"line_color\"],\"data\":{\"character\":[\"g\"],\"chart_index\":[{\"character\":\"g\"}],\"color\":[\"#f22c40\"],\"fill_alpha\":[0.8],\"height\":[138.0],\"label\":[{\"character\":\"g\"}],\"line_alpha\":[1.0],\"line_color\":[\"white\"],\"width\":[0.8],\"x\":[\"g\"],\"y\":[69.0]}},\"id\":\"5bdda66a-2372-4f43-ad4f-31deb3fbd5fc\",\"type\":\"ColumnDataSource\"},{\"attributes\":{\"data_source\":{\"id\":\"c43cebcd-4a6a-4c06-873e-5cca48bd5f02\",\"type\":\"ColumnDataSource\"},\"glyph\":{\"id\":\"156e411b-79f0-4e28-8443-b9ab480deb2d\",\"type\":\"Rect\"},\"hover_glyph\":null,\"nonselection_glyph\":null,\"selection_glyph\":null},\"id\":\"df688087-b996-476a-b9f5-0f7ad064a0ca\",\"type\":\"GlyphRenderer\"},{\"attributes\":{\"callback\":null,\"column_names\":[\"width\",\"height\",\"y\",\"x\",\"fill_alpha\",\"color\",\"line_alpha\",\"label\",\"line_color\"],\"data\":{\"character\":[\"o\"],\"chart_index\":[{\"character\":\"o\"}],\"color\":[\"#f22c40\"],\"fill_alpha\":[0.8],\"height\":[521.0],\"label\":[{\"character\":\"o\"}],\"line_alpha\":[1.0],\"line_color\":[\"white\"],\"width\":[0.8],\"x\":[\"o\"],\"y\":[260.5]}},\"id\":\"780e94e1-e416-420d-ad4c-08f727384d53\",\"type\":\"ColumnDataSource\"},{\"attributes\":{\"callback\":null,\"column_names\":[\"width\",\"height\",\"y\",\"x\",\"fill_alpha\",\"color\",\"line_alpha\",\"label\",\"line_color\"],\"data\":{\"character\":[\"h\"],\"chart_index\":[{\"character\":\"h\"}],\"color\":[\"#f22c40\"],\"fill_alpha\":[0.8],\"height\":[153.0],\"label\":[{\"character\":\"h\"}],\"line_alpha\":[1.0],\"line_color\":[\"white\"],\"width\":[0.8],\"x\":[\"h\"],\"y\":[76.5]}},\"id\":\"1b49d234-0367-4038-89aa-f48937ae9f00\",\"type\":\"ColumnDataSource\"},{\"attributes\":{\"data_source\":{\"id\":\"df8f93c2-237f-4ab0-9584-eee6c5bc56f4\",\"type\":\"ColumnDataSource\"},\"glyph\":{\"id\":\"06b29a7b-4dff-4b22-93ba-2cf9ea63aee2\",\"type\":\"Rect\"},\"hover_glyph\":null,\"nonselection_glyph\":null,\"selection_glyph\":null},\"id\":\"62cb3039-5f3a-4c4f-b15b-5782370b81be\",\"type\":\"GlyphRenderer\"},{\"attributes\":{\"bottom_units\":\"screen\",\"fill_alpha\":{\"value\":0.5},\"fill_color\":{\"value\":\"lightgrey\"},\"left_units\":\"screen\",\"level\":\"overlay\",\"line_alpha\":{\"value\":1.0},\"line_color\":{\"value\":\"black\"},\"line_dash\":[4,4],\"line_width\":{\"value\":2},\"plot\":null,\"render_mode\":\"css\",\"right_units\":\"screen\",\"top_units\":\"screen\"},\"id\":\"5e4e1d7b-29a6-4fd3-8ed6-448e4481a972\",\"type\":\"BoxAnnotation\"},{\"attributes\":{\"fill_alpha\":{\"field\":\"fill_alpha\"},\"fill_color\":{\"field\":\"color\"},\"height\":{\"field\":\"height\",\"units\":\"data\"},\"line_color\":{\"field\":\"line_color\"},\"width\":{\"field\":\"width\",\"units\":\"data\"},\"x\":{\"field\":\"x\"},\"y\":{\"field\":\"y\"}},\"id\":\"ecc4c05b-489d-4e84-8796-f995dc1e188d\",\"type\":\"Rect\"},{\"attributes\":{\"callback\":null,\"column_names\":[\"width\",\"height\",\"y\",\"x\",\"fill_alpha\",\"color\",\"line_alpha\",\"label\",\"line_color\"],\"data\":{\"character\":[\"p\"],\"chart_index\":[{\"character\":\"p\"}],\"color\":[\"#f22c40\"],\"fill_alpha\":[0.8],\"height\":[183.0],\"label\":[{\"character\":\"p\"}],\"line_alpha\":[1.0],\"line_color\":[\"white\"],\"width\":[0.8],\"x\":[\"p\"],\"y\":[91.5]}},\"id\":\"f6be8d31-8243-4f82-9aa5-2ad0b49369b4\",\"type\":\"ColumnDataSource\"},{\"attributes\":{\"fill_alpha\":{\"field\":\"fill_alpha\"},\"fill_color\":{\"field\":\"color\"},\"height\":{\"field\":\"height\",\"units\":\"data\"},\"line_color\":{\"field\":\"line_color\"},\"width\":{\"field\":\"width\",\"units\":\"data\"},\"x\":{\"field\":\"x\"},\"y\":{\"field\":\"y\"}},\"id\":\"06b29a7b-4dff-4b22-93ba-2cf9ea63aee2\",\"type\":\"Rect\"},{\"attributes\":{\"data_source\":{\"id\":\"49808047-7465-417f-82cc-3075fd05bcf1\",\"type\":\"ColumnDataSource\"},\"glyph\":{\"id\":\"a52c915a-6675-4d12-b500-983b371999bd\",\"type\":\"Rect\"},\"hover_glyph\":null,\"nonselection_glyph\":null,\"selection_glyph\":null},\"id\":\"e52129b3-7749-40c2-bf69-5cc510e05621\",\"type\":\"GlyphRenderer\"}],\"root_ids\":[\"9244822a-3146-4ed1-8ccb-48b03922ea7e\"]},\"title\":\"Bokeh Application\",\"version\":\"0.12.4\"}};\n",
       "            var render_items = [{\"docid\":\"29950e16-e89d-433c-98a1-7d8abe849f32\",\"elementid\":\"205a8a37-23ad-430f-b2ac-4e3e7c955c93\",\"modelid\":\"9244822a-3146-4ed1-8ccb-48b03922ea7e\"}];\n",
       "            \n",
       "            Bokeh.embed.embed_items(docs_json, render_items);\n",
       "          };\n",
       "          if (document.readyState != \"loading\") fn();\n",
       "          else document.addEventListener(\"DOMContentLoaded\", fn);\n",
       "        })();\n",
       "      },\n",
       "      function(Bokeh) {\n",
       "      }\n",
       "    ];\n",
       "  \n",
       "    function run_inline_js() {\n",
       "      \n",
       "      if ((window.Bokeh !== undefined) || (force === true)) {\n",
       "        for (var i = 0; i < inline_js.length; i++) {\n",
       "          inline_js[i](window.Bokeh);\n",
       "        }if (force === true) {\n",
       "          display_loaded();\n",
       "        }} else if (Date.now() < window._bokeh_timeout) {\n",
       "        setTimeout(run_inline_js, 100);\n",
       "      } else if (!window._bokeh_failed_load) {\n",
       "        console.log(\"Bokeh: BokehJS failed to load within specified timeout.\");\n",
       "        window._bokeh_failed_load = true;\n",
       "      } else if (force !== true) {\n",
       "        var cell = $(document.getElementById(\"205a8a37-23ad-430f-b2ac-4e3e7c955c93\")).parents('.cell').data().cell;\n",
       "        cell.output_area.append_execute_result(NB_LOAD_WARNING)\n",
       "      }\n",
       "  \n",
       "    }\n",
       "  \n",
       "    if (window._bokeh_is_loading === 0) {\n",
       "      console.log(\"Bokeh: BokehJS loaded, going straight to plotting\");\n",
       "      run_inline_js();\n",
       "    } else {\n",
       "      load_libs(js_urls, function() {\n",
       "        console.log(\"Bokeh: BokehJS plotting callback run at\", now());\n",
       "        run_inline_js();\n",
       "      });\n",
       "    }\n",
       "  }(this));\n",
       "</script>"
      ]
     },
     "metadata": {},
     "output_type": "display_data"
    }
   ],
   "source": [
    "pic = Bar(letters_dataframe, 'character', values='count', title=\"Character Frequency\", legend=None)\n",
    "output_notebook()\n",
    "show(pic)"
   ]
  },
  {
   "cell_type": "code",
   "execution_count": null,
   "metadata": {
    "collapsed": true
   },
   "outputs": [],
   "source": []
  }
 ],
 "metadata": {
  "anaconda-cloud": {},
  "kernelspec": {
   "display_name": "Python [default]",
   "language": "python",
   "name": "python3"
  },
  "language_info": {
   "codemirror_mode": {
    "name": "ipython",
    "version": 3
   },
   "file_extension": ".py",
   "mimetype": "text/x-python",
   "name": "python",
   "nbconvert_exporter": "python",
   "pygments_lexer": "ipython3",
   "version": "3.5.2"
  }
 },
 "nbformat": 4,
 "nbformat_minor": 1
}
