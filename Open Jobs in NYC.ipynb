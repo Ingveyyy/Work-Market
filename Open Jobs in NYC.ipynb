{
 "cells": [
  {
   "cell_type": "markdown",
   "metadata": {},
   "source": [
    "# Open Jobs in New York City - Python Code"
   ]
  },
  {
   "cell_type": "markdown",
   "metadata": {},
   "source": [
    "###### To import package(s) and read the file"
   ]
  },
  {
   "cell_type": "code",
   "execution_count": 55,
   "metadata": {
    "collapsed": true
   },
   "outputs": [],
   "source": [
    "import pandas as pd"
   ]
  },
  {
   "cell_type": "code",
   "execution_count": 95,
   "metadata": {
    "collapsed": false
   },
   "outputs": [],
   "source": [
    "df=pd.read_csv('/Users/KillMe/Desktop/NYC_Jobs.csv')"
   ]
  },
  {
   "cell_type": "markdown",
   "metadata": {},
   "source": [
    "###### Part 1: Create a dictionary where the keys are agencies, and values are the number of positions for each agency. In this process, each Job ID is only used once."
   ]
  },
  {
   "cell_type": "code",
   "execution_count": 87,
   "metadata": {
    "collapsed": false
   },
   "outputs": [],
   "source": [
    "jobid_list = []\n",
    "d = {}\n",
    "for row in df.iterrows():\n",
    "    k, v = row[1][1],row[1][3]\n",
    "    if row[1][0] in jobid_list: # Skip a row if job ID has appeared before.\n",
    "        continue\n",
    "    jobid_list.append(row[1][0])\n",
    "    if k in d.keys():\n",
    "        d[k] += v\n",
    "    else:\n",
    "        d[k] = v"
   ]
  },
  {
   "cell_type": "code",
   "execution_count": 94,
   "metadata": {
    "collapsed": false
   },
   "outputs": [
    {
     "data": {
      "text/plain": [
       "'DEPT OF HEALTH/MENTAL HYGIENE'"
      ]
     },
     "execution_count": 94,
     "metadata": {},
     "output_type": "execute_result"
    }
   ],
   "source": [
    "max(d.keys(), key=(lambda x: d[x])) # Name of the agency with the most openings"
   ]
  },
  {
   "cell_type": "code",
   "execution_count": 118,
   "metadata": {
    "collapsed": false
   },
   "outputs": [
    {
     "data": {
      "text/plain": [
       "1441"
      ]
     },
     "execution_count": 118,
     "metadata": {},
     "output_type": "execute_result"
    }
   ],
   "source": [
    "d['DEPT OF HEALTH/MENTAL HYGIENE'] # Number of openings in DEPT OF HEALTH/MENTAL HYGIENE"
   ]
  },
  {
   "cell_type": "markdown",
   "metadata": {},
   "source": [
    "###### Part 2"
   ]
  },
  {
   "cell_type": "markdown",
   "metadata": {},
   "source": [
    "##### Create two seperated dataframe by the salary frequency"
   ]
  },
  {
   "cell_type": "code",
   "execution_count": 50,
   "metadata": {
    "collapsed": false
   },
   "outputs": [],
   "source": [
    "Salary_Annual = df.loc[df['Salary Frequency'] == 'Annual']"
   ]
  },
  {
   "cell_type": "code",
   "execution_count": 51,
   "metadata": {
    "collapsed": false
   },
   "outputs": [],
   "source": [
    "Salary_Hourly = df.loc[df['Salary Frequency'] == 'Hourly']"
   ]
  },
  {
   "cell_type": "markdown",
   "metadata": {},
   "source": [
    "##### We first sort the data of annual paid postions, according to the lower bound, the upper bound, and the midpointof salary range. Then find the highest and lowest paid postion and their department repectively."
   ]
  },
  {
   "cell_type": "code",
   "execution_count": 120,
   "metadata": {
    "collapsed": false
   },
   "outputs": [
    {
     "data": {
      "text/html": [
       "<div>\n",
       "<table border=\"1\" class=\"dataframe\">\n",
       "  <thead>\n",
       "    <tr style=\"text-align: right;\">\n",
       "      <th></th>\n",
       "      <th>Job ID</th>\n",
       "      <th>Agency</th>\n",
       "      <th>Posting Type</th>\n",
       "      <th># Of Positions</th>\n",
       "      <th>Business Title</th>\n",
       "      <th>Civil Service Title</th>\n",
       "      <th>Title Code No</th>\n",
       "      <th>Level</th>\n",
       "      <th>Salary Range From</th>\n",
       "      <th>Salary Range To</th>\n",
       "      <th>...</th>\n",
       "      <th>Additional Information</th>\n",
       "      <th>To Apply</th>\n",
       "      <th>Hours/Shift</th>\n",
       "      <th>Work Location 1</th>\n",
       "      <th>Recruitment Contact</th>\n",
       "      <th>Residency Requirement</th>\n",
       "      <th>Posting Date</th>\n",
       "      <th>Post Until</th>\n",
       "      <th>Posting Updated</th>\n",
       "      <th>Process Date</th>\n",
       "    </tr>\n",
       "  </thead>\n",
       "  <tbody>\n",
       "    <tr>\n",
       "      <th>473</th>\n",
       "      <td>225848</td>\n",
       "      <td>DEPT OF HEALTH/MENTAL HYGIENE</td>\n",
       "      <td>External</td>\n",
       "      <td>4</td>\n",
       "      <td>Communications Specialist</td>\n",
       "      <td>COMMUNITY SERVICE AIDE</td>\n",
       "      <td>52406</td>\n",
       "      <td>0</td>\n",
       "      <td>26536</td>\n",
       "      <td>30516</td>\n",
       "      <td>...</td>\n",
       "      <td></td>\n",
       "      <td>TO APPLY, PLEASE SUBMIT RESUME AND COVER LETTE...</td>\n",
       "      <td></td>\n",
       "      <td></td>\n",
       "      <td>NaN</td>\n",
       "      <td>New York City residency is generally required ...</td>\n",
       "      <td>12/15/2015 00:00:00</td>\n",
       "      <td>NaN</td>\n",
       "      <td>01/21/2016 00:00:00</td>\n",
       "      <td>12/20/2016 00:00:00</td>\n",
       "    </tr>\n",
       "    <tr>\n",
       "      <th>650</th>\n",
       "      <td>235309</td>\n",
       "      <td>DEPT OF HEALTH/MENTAL HYGIENE</td>\n",
       "      <td>External</td>\n",
       "      <td>1</td>\n",
       "      <td>Pest Control Aide, Bureau of Veterinary and Pe...</td>\n",
       "      <td>PEST CONTROL AIDE</td>\n",
       "      <td>90500</td>\n",
       "      <td>0</td>\n",
       "      <td>26457</td>\n",
       "      <td>32665</td>\n",
       "      <td>...</td>\n",
       "      <td></td>\n",
       "      <td>Apply online with a cover letter to https://a1...</td>\n",
       "      <td></td>\n",
       "      <td></td>\n",
       "      <td>NaN</td>\n",
       "      <td>New York City residency is generally required ...</td>\n",
       "      <td>03/14/2016 00:00:00</td>\n",
       "      <td>NaN</td>\n",
       "      <td>06/08/2016 00:00:00</td>\n",
       "      <td>12/20/2016 00:00:00</td>\n",
       "    </tr>\n",
       "    <tr>\n",
       "      <th>612</th>\n",
       "      <td>235309</td>\n",
       "      <td>DEPT OF HEALTH/MENTAL HYGIENE</td>\n",
       "      <td>Internal</td>\n",
       "      <td>1</td>\n",
       "      <td>Pest Control Aide, Bureau of Veterinary and Pe...</td>\n",
       "      <td>PEST CONTROL AIDE</td>\n",
       "      <td>90500</td>\n",
       "      <td>0</td>\n",
       "      <td>26457</td>\n",
       "      <td>32665</td>\n",
       "      <td>...</td>\n",
       "      <td></td>\n",
       "      <td>Apply online with a cover letter to https://a1...</td>\n",
       "      <td></td>\n",
       "      <td></td>\n",
       "      <td>NaN</td>\n",
       "      <td>New York City residency is generally required ...</td>\n",
       "      <td>03/14/2016 00:00:00</td>\n",
       "      <td>NaN</td>\n",
       "      <td>06/08/2016 00:00:00</td>\n",
       "      <td>12/20/2016 00:00:00</td>\n",
       "    </tr>\n",
       "    <tr>\n",
       "      <th>3646</th>\n",
       "      <td>274311</td>\n",
       "      <td>DEPARTMENT OF PROBATION</td>\n",
       "      <td>Internal</td>\n",
       "      <td>1</td>\n",
       "      <td>Probation Assistant</td>\n",
       "      <td>PROBATION ASSISTANT</td>\n",
       "      <td>51800</td>\n",
       "      <td>0</td>\n",
       "      <td>25781</td>\n",
       "      <td>36330</td>\n",
       "      <td>...</td>\n",
       "      <td></td>\n",
       "      <td>PLEASE SUBMIT RESUME AND COVER LETTER TO:  Ext...</td>\n",
       "      <td></td>\n",
       "      <td></td>\n",
       "      <td>NaN</td>\n",
       "      <td>New York City Residency is not required for th...</td>\n",
       "      <td>12/06/2016 00:00:00</td>\n",
       "      <td>NaN</td>\n",
       "      <td>12/08/2016 00:00:00</td>\n",
       "      <td>12/20/2016 00:00:00</td>\n",
       "    </tr>\n",
       "    <tr>\n",
       "      <th>3647</th>\n",
       "      <td>274311</td>\n",
       "      <td>DEPARTMENT OF PROBATION</td>\n",
       "      <td>External</td>\n",
       "      <td>1</td>\n",
       "      <td>Probation Assistant</td>\n",
       "      <td>PROBATION ASSISTANT</td>\n",
       "      <td>51800</td>\n",
       "      <td>0</td>\n",
       "      <td>25781</td>\n",
       "      <td>36330</td>\n",
       "      <td>...</td>\n",
       "      <td></td>\n",
       "      <td>PLEASE SUBMIT RESUME AND COVER LETTER TO:  Ext...</td>\n",
       "      <td></td>\n",
       "      <td></td>\n",
       "      <td>NaN</td>\n",
       "      <td>New York City Residency is not required for th...</td>\n",
       "      <td>12/06/2016 00:00:00</td>\n",
       "      <td>NaN</td>\n",
       "      <td>12/08/2016 00:00:00</td>\n",
       "      <td>12/20/2016 00:00:00</td>\n",
       "    </tr>\n",
       "  </tbody>\n",
       "</table>\n",
       "<p>5 rows × 27 columns</p>\n",
       "</div>"
      ],
      "text/plain": [
       "      Job ID                         Agency Posting Type  # Of Positions  \\\n",
       "473   225848  DEPT OF HEALTH/MENTAL HYGIENE     External               4   \n",
       "650   235309  DEPT OF HEALTH/MENTAL HYGIENE     External               1   \n",
       "612   235309  DEPT OF HEALTH/MENTAL HYGIENE     Internal               1   \n",
       "3646  274311        DEPARTMENT OF PROBATION     Internal               1   \n",
       "3647  274311        DEPARTMENT OF PROBATION     External               1   \n",
       "\n",
       "                                         Business Title  \\\n",
       "473                           Communications Specialist   \n",
       "650   Pest Control Aide, Bureau of Veterinary and Pe...   \n",
       "612   Pest Control Aide, Bureau of Veterinary and Pe...   \n",
       "3646                                Probation Assistant   \n",
       "3647                                Probation Assistant   \n",
       "\n",
       "         Civil Service Title Title Code No Level  Salary Range From  \\\n",
       "473   COMMUNITY SERVICE AIDE         52406     0              26536   \n",
       "650        PEST CONTROL AIDE         90500     0              26457   \n",
       "612        PEST CONTROL AIDE         90500     0              26457   \n",
       "3646     PROBATION ASSISTANT         51800     0              25781   \n",
       "3647     PROBATION ASSISTANT         51800     0              25781   \n",
       "\n",
       "      Salary Range To         ...           Additional Information  \\\n",
       "473             30516         ...                                    \n",
       "650             32665         ...                                    \n",
       "612             32665         ...                                    \n",
       "3646            36330         ...                                    \n",
       "3647            36330         ...                                    \n",
       "\n",
       "                                               To Apply Hours/Shift  \\\n",
       "473   TO APPLY, PLEASE SUBMIT RESUME AND COVER LETTE...               \n",
       "650   Apply online with a cover letter to https://a1...               \n",
       "612   Apply online with a cover letter to https://a1...               \n",
       "3646  PLEASE SUBMIT RESUME AND COVER LETTER TO:  Ext...               \n",
       "3647  PLEASE SUBMIT RESUME AND COVER LETTER TO:  Ext...               \n",
       "\n",
       "     Work Location 1 Recruitment Contact  \\\n",
       "473                                  NaN   \n",
       "650                                  NaN   \n",
       "612                                  NaN   \n",
       "3646                                 NaN   \n",
       "3647                                 NaN   \n",
       "\n",
       "                                  Residency Requirement         Posting Date  \\\n",
       "473   New York City residency is generally required ...  12/15/2015 00:00:00   \n",
       "650   New York City residency is generally required ...  03/14/2016 00:00:00   \n",
       "612   New York City residency is generally required ...  03/14/2016 00:00:00   \n",
       "3646  New York City Residency is not required for th...  12/06/2016 00:00:00   \n",
       "3647  New York City Residency is not required for th...  12/06/2016 00:00:00   \n",
       "\n",
       "     Post Until      Posting Updated         Process Date  \n",
       "473         NaN  01/21/2016 00:00:00  12/20/2016 00:00:00  \n",
       "650         NaN  06/08/2016 00:00:00  12/20/2016 00:00:00  \n",
       "612         NaN  06/08/2016 00:00:00  12/20/2016 00:00:00  \n",
       "3646        NaN  12/08/2016 00:00:00  12/20/2016 00:00:00  \n",
       "3647        NaN  12/08/2016 00:00:00  12/20/2016 00:00:00  \n",
       "\n",
       "[5 rows x 27 columns]"
      ]
     },
     "execution_count": 120,
     "metadata": {},
     "output_type": "execute_result"
    }
   ],
   "source": [
    "result_Annual1= Salary_Annual.sort_values(by='Salary Range From', ascending=False)\n",
    "result_Annual1.head()\n",
    "result_Annual1.tail()"
   ]
  },
  {
   "cell_type": "code",
   "execution_count": 121,
   "metadata": {
    "collapsed": false
   },
   "outputs": [],
   "source": [
    "result_Annual2= Salary_Annual.sort_values(by='Salary Range To', ascending=False)"
   ]
  },
  {
   "cell_type": "code",
   "execution_count": 122,
   "metadata": {
    "collapsed": false
   },
   "outputs": [],
   "source": [
    "result_Annual3= Salary_Annual.sort_values(by='Salary Average', ascending=False)"
   ]
  },
  {
   "cell_type": "markdown",
   "metadata": {},
   "source": [
    "##### Sort the data of hourly paid postions, according to the lower bound, the upper bound, and the midpoint of salary range. Then find the highest and lowest paid postion and their department repectively."
   ]
  },
  {
   "cell_type": "code",
   "execution_count": 126,
   "metadata": {
    "collapsed": false,
    "scrolled": true
   },
   "outputs": [],
   "source": [
    "result_Hourly1= Salary_Hourly.sort_values(by='Salary Range From', ascending=False)\n"
   ]
  },
  {
   "cell_type": "code",
   "execution_count": 124,
   "metadata": {
    "collapsed": false
   },
   "outputs": [],
   "source": [
    "result_Hourly2= Salary_Hourly.sort_values(by='Salary Range To', ascending=False)\n"
   ]
  },
  {
   "cell_type": "code",
   "execution_count": 125,
   "metadata": {
    "collapsed": false,
    "scrolled": true
   },
   "outputs": [],
   "source": [
    "result_Hourly3= Salary_Hourly.sort_values(by='Salary Average', ascending=False)\n"
   ]
  },
  {
   "cell_type": "markdown",
   "metadata": {},
   "source": [
    "###### Part 3 : To find the earliest position posted, we need to sort the data by the posting date"
   ]
  },
  {
   "cell_type": "code",
   "execution_count": 127,
   "metadata": {
    "collapsed": false
   },
   "outputs": [
    {
     "data": {
      "text/html": [
       "<div>\n",
       "<table border=\"1\" class=\"dataframe\">\n",
       "  <thead>\n",
       "    <tr style=\"text-align: right;\">\n",
       "      <th></th>\n",
       "      <th>Job ID</th>\n",
       "      <th>Agency</th>\n",
       "      <th>Posting Type</th>\n",
       "      <th># Of Positions</th>\n",
       "      <th>Business Title</th>\n",
       "      <th>Civil Service Title</th>\n",
       "      <th>Title Code No</th>\n",
       "      <th>Level</th>\n",
       "      <th>Salary Range From</th>\n",
       "      <th>Salary Range To</th>\n",
       "      <th>...</th>\n",
       "      <th>Additional Information</th>\n",
       "      <th>To Apply</th>\n",
       "      <th>Hours/Shift</th>\n",
       "      <th>Work Location 1</th>\n",
       "      <th>Recruitment Contact</th>\n",
       "      <th>Residency Requirement</th>\n",
       "      <th>Posting Date</th>\n",
       "      <th>Post Until</th>\n",
       "      <th>Posting Updated</th>\n",
       "      <th>Process Date</th>\n",
       "    </tr>\n",
       "  </thead>\n",
       "  <tbody>\n",
       "    <tr>\n",
       "      <th>126</th>\n",
       "      <td>86699</td>\n",
       "      <td>DEPT OF CITYWIDE ADMIN SVCS</td>\n",
       "      <td>External</td>\n",
       "      <td>2</td>\n",
       "      <td>Graphic Artist</td>\n",
       "      <td>GRAPHIC ARTIST</td>\n",
       "      <td>91415</td>\n",
       "      <td>1</td>\n",
       "      <td>38443</td>\n",
       "      <td>60241</td>\n",
       "      <td>...</td>\n",
       "      <td></td>\n",
       "      <td>Please go to www.nyc.gov/careers or www.nyc.go...</td>\n",
       "      <td></td>\n",
       "      <td></td>\n",
       "      <td>NaN</td>\n",
       "      <td></td>\n",
       "      <td>2011-05-10</td>\n",
       "      <td>NaN</td>\n",
       "      <td>05/10/2011 00:00:00</td>\n",
       "      <td>12/20/2016 00:00:00</td>\n",
       "    </tr>\n",
       "    <tr>\n",
       "      <th>127</th>\n",
       "      <td>86699</td>\n",
       "      <td>DEPT OF CITYWIDE ADMIN SVCS</td>\n",
       "      <td>External</td>\n",
       "      <td>2</td>\n",
       "      <td>Graphic Artist</td>\n",
       "      <td>GRAPHIC ARTIST</td>\n",
       "      <td>91415</td>\n",
       "      <td>1</td>\n",
       "      <td>38443</td>\n",
       "      <td>60241</td>\n",
       "      <td>...</td>\n",
       "      <td></td>\n",
       "      <td>Please go to www.nyc.gov/careers or www.nyc.go...</td>\n",
       "      <td></td>\n",
       "      <td></td>\n",
       "      <td>NaN</td>\n",
       "      <td></td>\n",
       "      <td>2011-05-10</td>\n",
       "      <td>NaN</td>\n",
       "      <td>05/10/2011 00:00:00</td>\n",
       "      <td>12/20/2016 00:00:00</td>\n",
       "    </tr>\n",
       "    <tr>\n",
       "      <th>128</th>\n",
       "      <td>87990</td>\n",
       "      <td>DEPARTMENT OF BUSINESS SERV.</td>\n",
       "      <td>Internal</td>\n",
       "      <td>1</td>\n",
       "      <td>Account Manager</td>\n",
       "      <td>CONTRACT REVIEWER (OFFICE OF L</td>\n",
       "      <td>40563</td>\n",
       "      <td>1</td>\n",
       "      <td>42405</td>\n",
       "      <td>65485</td>\n",
       "      <td>...</td>\n",
       "      <td>Salary range for this position is: $42,405 - $...</td>\n",
       "      <td></td>\n",
       "      <td></td>\n",
       "      <td></td>\n",
       "      <td>NaN</td>\n",
       "      <td>New York City residency is generally required ...</td>\n",
       "      <td>2011-06-24</td>\n",
       "      <td>NaN</td>\n",
       "      <td>06/24/2011 00:00:00</td>\n",
       "      <td>12/20/2016 00:00:00</td>\n",
       "    </tr>\n",
       "    <tr>\n",
       "      <th>129</th>\n",
       "      <td>93086</td>\n",
       "      <td>DEPT OF INFO TECH &amp; TELECOMM</td>\n",
       "      <td>Internal</td>\n",
       "      <td>1</td>\n",
       "      <td>Director of Strategic Technology Development</td>\n",
       "      <td>COMPUTER SYSTEMS MANAGER</td>\n",
       "      <td>10050</td>\n",
       "      <td>M1</td>\n",
       "      <td>49492</td>\n",
       "      <td>101500</td>\n",
       "      <td>...</td>\n",
       "      <td></td>\n",
       "      <td>For City employees, please go to Employee Self...</td>\n",
       "      <td>Day - Due to the necessary technical managemen...</td>\n",
       "      <td></td>\n",
       "      <td>NaN</td>\n",
       "      <td>New York City Residency is not required for th...</td>\n",
       "      <td>2011-09-08</td>\n",
       "      <td>NaN</td>\n",
       "      <td>09/08/2011 00:00:00</td>\n",
       "      <td>12/20/2016 00:00:00</td>\n",
       "    </tr>\n",
       "    <tr>\n",
       "      <th>4</th>\n",
       "      <td>93086</td>\n",
       "      <td>DEPT OF INFO TECH &amp; TELECOMM</td>\n",
       "      <td>External</td>\n",
       "      <td>1</td>\n",
       "      <td>Director of Strategic Technology Development</td>\n",
       "      <td>COMPUTER SYSTEMS MANAGER</td>\n",
       "      <td>10050</td>\n",
       "      <td>M1</td>\n",
       "      <td>49492</td>\n",
       "      <td>101500</td>\n",
       "      <td>...</td>\n",
       "      <td></td>\n",
       "      <td>For City employees, please go to Employee Self...</td>\n",
       "      <td>Day - Due to the necessary technical managemen...</td>\n",
       "      <td></td>\n",
       "      <td>NaN</td>\n",
       "      <td>New York City Residency is not required for th...</td>\n",
       "      <td>2011-09-08</td>\n",
       "      <td>NaN</td>\n",
       "      <td>09/08/2011 00:00:00</td>\n",
       "      <td>12/20/2016 00:00:00</td>\n",
       "    </tr>\n",
       "  </tbody>\n",
       "</table>\n",
       "<p>5 rows × 27 columns</p>\n",
       "</div>"
      ],
      "text/plain": [
       "     Job ID                        Agency Posting Type  # Of Positions  \\\n",
       "126   86699   DEPT OF CITYWIDE ADMIN SVCS     External               2   \n",
       "127   86699   DEPT OF CITYWIDE ADMIN SVCS     External               2   \n",
       "128   87990  DEPARTMENT OF BUSINESS SERV.     Internal               1   \n",
       "129   93086  DEPT OF INFO TECH & TELECOMM     Internal               1   \n",
       "4     93086  DEPT OF INFO TECH & TELECOMM     External               1   \n",
       "\n",
       "                                   Business Title  \\\n",
       "126                                Graphic Artist   \n",
       "127                                Graphic Artist   \n",
       "128                               Account Manager   \n",
       "129  Director of Strategic Technology Development   \n",
       "4    Director of Strategic Technology Development   \n",
       "\n",
       "                Civil Service Title Title Code No Level  Salary Range From  \\\n",
       "126                  GRAPHIC ARTIST         91415     1              38443   \n",
       "127                  GRAPHIC ARTIST         91415     1              38443   \n",
       "128  CONTRACT REVIEWER (OFFICE OF L         40563     1              42405   \n",
       "129        COMPUTER SYSTEMS MANAGER         10050    M1              49492   \n",
       "4          COMPUTER SYSTEMS MANAGER         10050    M1              49492   \n",
       "\n",
       "     Salary Range To         ...           \\\n",
       "126            60241         ...            \n",
       "127            60241         ...            \n",
       "128            65485         ...            \n",
       "129           101500         ...            \n",
       "4             101500         ...            \n",
       "\n",
       "                                Additional Information  \\\n",
       "126                                                      \n",
       "127                                                      \n",
       "128  Salary range for this position is: $42,405 - $...   \n",
       "129                                                      \n",
       "4                                                        \n",
       "\n",
       "                                              To Apply  \\\n",
       "126  Please go to www.nyc.gov/careers or www.nyc.go...   \n",
       "127  Please go to www.nyc.gov/careers or www.nyc.go...   \n",
       "128                                                      \n",
       "129  For City employees, please go to Employee Self...   \n",
       "4    For City employees, please go to Employee Self...   \n",
       "\n",
       "                                           Hours/Shift Work Location 1  \\\n",
       "126                                                                      \n",
       "127                                                                      \n",
       "128                                                                      \n",
       "129  Day - Due to the necessary technical managemen...                   \n",
       "4    Day - Due to the necessary technical managemen...                   \n",
       "\n",
       "    Recruitment Contact                              Residency Requirement  \\\n",
       "126                 NaN                                                      \n",
       "127                 NaN                                                      \n",
       "128                 NaN  New York City residency is generally required ...   \n",
       "129                 NaN  New York City Residency is not required for th...   \n",
       "4                   NaN  New York City Residency is not required for th...   \n",
       "\n",
       "    Posting Date Post Until      Posting Updated         Process Date  \n",
       "126   2011-05-10        NaN  05/10/2011 00:00:00  12/20/2016 00:00:00  \n",
       "127   2011-05-10        NaN  05/10/2011 00:00:00  12/20/2016 00:00:00  \n",
       "128   2011-06-24        NaN  06/24/2011 00:00:00  12/20/2016 00:00:00  \n",
       "129   2011-09-08        NaN  09/08/2011 00:00:00  12/20/2016 00:00:00  \n",
       "4     2011-09-08        NaN  09/08/2011 00:00:00  12/20/2016 00:00:00  \n",
       "\n",
       "[5 rows x 27 columns]"
      ]
     },
     "execution_count": 127,
     "metadata": {},
     "output_type": "execute_result"
    }
   ],
   "source": [
    "df['Posting Date'] =pd.to_datetime(df['Posting Date']) #Need to convert the column \"Posting Date\" to a datetime object\n",
    "result4 = df.sort_values(by='Posting Date', ascending=True)\n",
    "result4.head()"
   ]
  },
  {
   "cell_type": "code",
   "execution_count": null,
   "metadata": {
    "collapsed": true
   },
   "outputs": [],
   "source": []
  }
 ],
 "metadata": {
  "anaconda-cloud": {},
  "kernelspec": {
   "display_name": "Python [default]",
   "language": "python",
   "name": "python3"
  },
  "language_info": {
   "codemirror_mode": {
    "name": "ipython",
    "version": 3
   },
   "file_extension": ".py",
   "mimetype": "text/x-python",
   "name": "python",
   "nbconvert_exporter": "python",
   "pygments_lexer": "ipython3",
   "version": "3.5.2"
  }
 },
 "nbformat": 4,
 "nbformat_minor": 1
}
